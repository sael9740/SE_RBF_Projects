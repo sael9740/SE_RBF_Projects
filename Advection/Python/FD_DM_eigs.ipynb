{
 "cells": [
  {
   "cell_type": "code",
   "execution_count": 1,
   "metadata": {
    "collapsed": true
   },
   "outputs": [],
   "source": [
    "import numpy as np\n",
    "from numpy import linalg as nla\n",
    "import matplotlib.pyplot as plt\n",
    "%matplotlib inline"
   ]
  },
  {
   "cell_type": "code",
   "execution_count": 2,
   "metadata": {
    "collapsed": true
   },
   "outputs": [],
   "source": [
    "def jrr(j):\n",
    "    if j < 0:\n",
    "        j = j + N\n",
    "    if j >= N:\n",
    "        j = j - N\n",
    "        \n",
    "    return j    "
   ]
  },
  {
   "cell_type": "code",
   "execution_count": 16,
   "metadata": {
    "collapsed": false
   },
   "outputs": [],
   "source": [
    "N = 1000\n",
    "A = np.zeros((N,N))\n",
    "\n",
    "for i in range(N):\n",
    "#     A[i,jrr(i-1)] = -1/2\n",
    "#     A[i,jrr(i+1)] = 1/2\n",
    "    \n",
    "#     A[i,jrr(i-2)] = 1/12\n",
    "#     A[i,jrr(i-1)] = -2/3\n",
    "#     A[i,jrr(i+1)] = 2/3\n",
    "#     A[i,jrr(i+2)] = -1/12\n",
    "    \n",
    "    A[i,jrr(i-3)] = -1/60\n",
    "    A[i,jrr(i-2)] = 3/20\n",
    "    A[i,jrr(i-1)] = -3/4\n",
    "    A[i,jrr(i+1)] = 3/4\n",
    "    A[i,jrr(i+2)] = -3/20\n",
    "    A[i,jrr(i+3)] = 1/60"
   ]
  },
  {
   "cell_type": "code",
   "execution_count": 17,
   "metadata": {
    "collapsed": false
   },
   "outputs": [
    {
     "data": {
      "text/plain": [
       "<matplotlib.collections.PathCollection at 0x116431ef0>"
      ]
     },
     "execution_count": 17,
     "metadata": {},
     "output_type": "execute_result"
    },
    {
     "data": {
      "image/png": "[encoded data removed]",
      "text/plain": [
       "<matplotlib.figure.Figure at 0x112738208>"
      ]
     },
     "metadata": {},
     "output_type": "display_data"
    }
   ],
   "source": [
    "eigs = nla.eigvals(A)\n",
    "\n",
    "fig = plt.figure(figsize=(10,10))\n",
    "ax = fig.add_subplot(1,1,1)\n",
    "ax.scatter(np.real(eigs),np.imag(eigs))"
   ]
  },
  {
   "cell_type": "code",
   "execution_count": 18,
   "metadata": {
    "collapsed": false
   },
   "outputs": [
    {
     "data": {
      "text/plain": [
       "1.5859776452278094"
      ]
     },
     "execution_count": 18,
     "metadata": {},
     "output_type": "execute_result"
    }
   ],
   "source": [
    "np.max(np.abs(eigs))"
   ]
  },
  {
   "cell_type": "code",
   "execution_count": 20,
   "metadata": {
    "collapsed": false
   },
   "outputs": [
    {
     "data": {
      "text/plain": [
       "517.2413793103448"
      ]
     },
     "execution_count": 20,
     "metadata": {},
     "output_type": "execute_result"
    }
   ],
   "source": [
    "h = 12000/(30-1)\n",
    "dt_max = 2/(1.6/h)\n",
    "dt_max"
   ]
  },
  {
   "cell_type": "code",
   "execution_count": null,
   "metadata": {
    "collapsed": true
   },
   "outputs": [],
   "source": []
  }
 ],
 "metadata": {
  "kernelspec": {
   "display_name": "Python [Root]",
   "language": "python",
   "name": "Python [Root]"
  },
  "language_info": {
   "codemirror_mode": {
    "name": "ipython",
    "version": 3
   },
   "file_extension": ".py",
   "mimetype": "text/x-python",
   "name": "python",
   "nbconvert_exporter": "python",
   "pygments_lexer": "ipython3",
   "version": "3.5.2"
  }
 },
 "nbformat": 4,
 "nbformat_minor": 0
}
