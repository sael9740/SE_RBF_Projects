{
 "cells": [
  {
   "cell_type": "markdown",
   "metadata": {
    "collapsed": true
   },
   "source": [
    "## Test Case 2: Hadley-like Meridonal Circulation"
   ]
  },
  {
   "cell_type": "markdown",
   "metadata": {},
   "source": [
    "### Import Libraries"
   ]
  },
  {
   "cell_type": "code",
   "execution_count": 1,
   "metadata": {
    "collapsed": true
   },
   "outputs": [],
   "source": [
    "import numpy as np\n",
    "from numpy import linalg as nla\n",
    "import matplotlib.pyplot as plt\n",
    "%matplotlib inline\n",
    "from mpl_toolkits.mplot3d.axes3d import Axes3D"
   ]
  },
  {
   "cell_type": "markdown",
   "metadata": {},
   "source": [
    "# Physical Constants"
   ]
  },
  {
   "cell_type": "code",
   "execution_count": 2,
   "metadata": {
    "collapsed": true
   },
   "outputs": [],
   "source": [
    "a = 6.37122*(10**6)  # radius of the Earth (m)\n",
    "g = 9.80616          # gravitational constant (m s^(-2))\n",
    "p0 = 100000.0        # reference surface pressure (Pa)\n",
    "cp = 1004.5          # specific heat capacity of dry air (J kg^(-1) K^(-1))\n",
    "Rd = 287.0           # gas constant for dry air (J kg^(-1) K^(-1))\n",
    "kappa = Rd/cp        # ratio of Rd to cp\n",
    "T0 = 300.0           # isothermal atmosphere temperature (K)\n",
    "pi = np.pi           # pi\n",
    "htop = 12000.0"
   ]
  },
  {
   "cell_type": "markdown",
   "metadata": {},
   "source": [
    "### Simulation Parameterizations"
   ]
  },
  {
   "cell_type": "markdown",
   "metadata": {},
   "source": [
    "### Test Case Parameterizations"
   ]
  },
  {
   "cell_type": "code",
   "execution_count": 3,
   "metadata": {
    "collapsed": true
   },
   "outputs": [],
   "source": [
    "tau = 86400      # test case duration (s)\n",
    "K = 5            # Number of overturning cells\n",
    "u0 = 40          # reference zonal velocity\n",
    "w0 = .15         # reference horizontal velocity\n",
    "\n",
    "z_1 = 2000       # Lower boundary of tracer layer\n",
    "z_2 = 5000       # Upper boundary of tracer layer"
   ]
  },
  {
   "cell_type": "markdown",
   "metadata": {},
   "source": [
    "### Coordinate Transformations\n",
    "\n",
    "The wind fields look nasty in cartesian so I prefer to just calculate them in shperical then go back to cartesian"
   ]
  },
  {
   "cell_type": "code",
   "execution_count": 4,
   "metadata": {
    "collapsed": true
   },
   "outputs": [],
   "source": [
    "# convert cartesian to spherical\n",
    "def c2s(x,y,z):\n",
    "\n",
    "    ############ calculate r\n",
    "    r = np.sqrt(x**2 + y**2 + z**2)\n",
    "\n",
    "    ############ calculate lambda\n",
    "    lmbda = np.arctan2(y,x)\n",
    "    \n",
    "    # map to lambda in [0,2pi)\n",
    "    lmbda = np.where(y < 0, lmbda + 2*pi, lmbda)\n",
    "\n",
    "    ############ calculate phi\n",
    "    phi = np.arctan2(z,np.sqrt(x**2 + y**2))\n",
    "    \n",
    "    return r,lmbda,phi\n",
    "\n",
    "\n",
    "\n",
    "# convert spherical to cartesian\n",
    "def s2c(r,lmbda,phi):\n",
    "    \n",
    "    x = r*np.cos(phi)*np.cos(lmbda)\n",
    "    y = r*np.cos(phi)*np.sin(lmbda)\n",
    "    z = r*np.sin(phi)\n",
    "    \n",
    "    return [x,y,z]"
   ]
  },
  {
   "cell_type": "markdown",
   "metadata": {},
   "source": [
    "### Density and Pressure Field\n",
    "\n",
    "The pressure field for this test case is given by\n",
    "\n",
    "$$p(r) = p_0 e^{-g\\frac{r-a}{R_{d}T_{0}}}$$\n",
    "\n",
    "which is the hydrostatic pressure of an isothermal atmosphere at $T=T_0$. The perscribed density field is given by\n",
    "\n",
    "$$\\rho(r) = \\rho_{0}e^{-(r-a)/H},\\quad \\text{where } \\rho_{0}=\\frac{p_{0}}{R_{d}T_{0}} \\text{ and } H = \\frac{R_{d}T_{0}}{g}$$\n",
    "\n"
   ]
  },
  {
   "cell_type": "code",
   "execution_count": 5,
   "metadata": {
    "collapsed": true
   },
   "outputs": [],
   "source": [
    "# Pressure field\n",
    "def p(r):\n",
    "    return p0*np.exp(-g*((r-a)/(Rd*T0)))\n",
    "\n",
    "# Perscribed density field\n",
    "def rho(r):\n",
    "    return (p0/(Rd*T0))*np.exp(-(r-a)*(g/(Rd*T0)))"
   ]
  },
  {
   "cell_type": "markdown",
   "metadata": {},
   "source": [
    "### Wind Field"
   ]
  },
  {
   "cell_type": "code",
   "execution_count": 7,
   "metadata": {
    "collapsed": true
   },
   "outputs": [],
   "source": [
    "def u_r_t(r,lmbda,phi,t):\n",
    "    \n",
    "    return ((w0*rho(a))/(K*rho(r))) * ((-2)*np.sin(K*phi)*np.sin(phi) + K*np.cos(K*phi)*np.cos(phi)) * np.sin(pi*(r-a)/htop)*np.cos(pi*t/tau)\n"
   ]
  },
  {
   "cell_type": "code",
   "execution_count": 8,
   "metadata": {
    "collapsed": true
   },
   "outputs": [],
   "source": [
    "def u_lmbda_t(phi):\n",
    "    \n",
    "    return u0*np.cos(phi)\n",
    "\n",
    "def u_phi_t(r,lmbda,phi,t):\n",
    "    \n",
    "    return -((a*w0*pi*rho(a))/(K*htop*rho(r)))*np.cos(phi)*np.sin(K*phi)*np.cos(pi*(r-a)/htop)*np.cos(pi*t/tau)\n"
   ]
  },
  {
   "cell_type": "markdown",
   "metadata": {},
   "source": [
    "##### Converting to Cartesian Wind Components"
   ]
  },
  {
   "cell_type": "markdown",
   "metadata": {},
   "source": [
    "We then convert to cartesian by\n",
    "\n",
    "$$\\bar{u} = u_r\\hat{r} + u_\\lambda\\hat{\\lambda} + u_\\phi\\hat{\\phi}$$\n",
    "\n",
    "$$\\Rightarrow \\bar{u} = u_r(\\cos{\\phi}\\cos{\\lambda}\\hat{x}+\\cos{\\phi}\\sin{\\lambda}\\hat{y}+\\sin{\\phi}\\hat{z}) + u_\\lambda(\\sin{\\lambda}\\hat{x}+\\cos{\\lambda}\\hat{y}) + u_\\phi(-\\sin{\\phi}\\cos{\\lambda}\\hat{x}-\\sin{\\phi}\\sin{\\lambda}\\hat{y}+\\sin{\\phi}\\hat{z})$$\n",
    "\n",
    "$$\\Rightarrow \\bar{u} = (u_r\\cos{\\phi}\\cos{\\lambda}+u_\\lambda\\sin{\\lambda}-u_\\phi\\sin{\\phi}\\cos{\\lambda})\\hat{x} + (u_r\\cos{\\phi}\\sin{\\lambda}+u_\\lambda\\cos{\\lambda}-u_\\phi\\sin{\\phi}\\sin{\\lambda})\\hat{y} + (u_r+u_\\phi)\\sin{\\phi}\\hat{z}$$"
   ]
  },
  {
   "cell_type": "code",
   "execution_count": null,
   "metadata": {
    "collapsed": true
   },
   "outputs": [],
   "source": [
    "def u_t(r,lmbda,phi,t):\n",
    "    \n",
    "    u_r = u_r_t(r,lmbda,phi,t)\n",
    "    u_lmbda = u_lmbda_t(phi)\n",
    "    u_phi = u_phi_t(r,lmbda,phi,t)\n",
    "    \n",
    "    u_x = np.cos(phi)*np.cos(lmbda)*u_r + (-np.sin(lmbda)*u_lmbda) + (-np.sin(phi)*np.cos(lmbda)*u_phi)\n",
    "    u_y = np.cos(phi)*np.sin(lmbda)*u_r + np.cos(lmbda)*u_lmbda + (-np.sin(phi)*np.sin(lmbda)*u_phi)\n",
    "    u_z = np.sin(phi)*u_r + np.cos(phi)*u_phi\n",
    "    \n",
    "    return np.stack((u_x,u_y,u_z))\n",
    "    "
   ]
  },
  {
   "cell_type": "markdown",
   "metadata": {},
   "source": [
    "## Tracer Test Cases"
   ]
  },
  {
   "cell_type": "code",
   "execution_count": 10,
   "metadata": {
    "collapsed": true
   },
   "outputs": [],
   "source": [
    "def get_q_init(r,lmbda,phi):\n",
    "    \n",
    "    z_0 = (z_1 + z_2)/2\n",
    "    \n",
    "    q = (1 + np.cos((2*pi*((r-a)-z_0))/(z_2 - z_1)))/2\n",
    "    \n",
    "    i1 = int(np.ceil(z_1/h)+depth)\n",
    "    i2 = int(np.floor(z_2/h)+depth+1)\n",
    "    \n",
    "    q[:,:i1] = 0.0\n",
    "    q[:,i2:] = 0.0\n",
    "    \n",
    "    return q"
   ]
  },
  {
   "cell_type": "code",
   "execution_count": 11,
   "metadata": {
    "collapsed": true
   },
   "outputs": [],
   "source": [
    "# fig = plt.figure(figsize=(20,20))\n",
    "# ax = fig.add_subplot(2,2,1)\n",
    "# ax.scatter(rr[1][:,6],rr[2][:,6],c = u_lmbda_t(rr[0],rr[1],rr[2],0,1,0)[:,6])\n",
    "# ax = fig.add_subplot(2,2,2)\n",
    "# ax.scatter(rr[1][:,6],rr[2][:,6],c = u_lmbda_t(rr[0],rr[1],rr[2],0,0,1)[:,6])\n",
    "# ax = fig.add_subplot(2,2,3)\n",
    "# ax.scatter(rr[1][:,6],rr[2][:,6],c = u_phi_t(rr[0],rr[1],rr[2],0)[:,6])\n",
    "# ax = fig.add_subplot(2,2,4)\n",
    "# ax.scatter(rr[1][:,6],rr[2][:,6],c = u_r_t(rr[0],rr[1],rr[2],0)[:,6])"
   ]
  },
  {
   "cell_type": "code",
   "execution_count": 12,
   "metadata": {
    "collapsed": true
   },
   "outputs": [],
   "source": [
    "# print(np.max(u_lmbda_t(rr[0],rr[1],rr[2],0,1,0)[:,6]))\n",
    "# print(np.max(u_lmbda_t(rr[0],rr[1],rr[2],0,0,1)[:,6]))\n",
    "# print(np.max(u_phi_t(rr[0],rr[1],rr[2],0)[:,6]))\n",
    "# print(np.max(u_r_t(rr[0],rr[1],rr[2],0)[:,6]))"
   ]
  },
  {
   "cell_type": "code",
   "execution_count": null,
   "metadata": {
    "collapsed": true
   },
   "outputs": [],
   "source": []
  }
 ],
 "metadata": {
  "celltoolbar": "Raw Cell Format",
  "kernelspec": {
   "display_name": "Python [Root]",
   "language": "python",
   "name": "Python [Root]"
  },
  "language_info": {
   "codemirror_mode": {
    "name": "ipython",
    "version": 3
   },
   "file_extension": ".py",
   "mimetype": "text/x-python",
   "name": "python",
   "nbconvert_exporter": "python",
   "pygments_lexer": "ipython3",
   "version": "3.5.2"
  }
 },
 "nbformat": 4,
 "nbformat_minor": 1
}
