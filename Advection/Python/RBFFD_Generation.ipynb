{
 "cells": [
  {
   "cell_type": "code",
   "execution_count": 3,
   "metadata": {
    "collapsed": true
   },
   "outputs": [],
   "source": [
    "from math import sqrt\n",
    "import numpy as np\n",
    "import numpy.linalg as nla"
   ]
  },
  {
   "cell_type": "code",
   "execution_count": 369,
   "metadata": {
    "collapsed": true
   },
   "outputs": [],
   "source": [
    "def householder(x,i):\n",
    "    \n",
    "    n = x.shape[0]\n",
    "    dot_1on = np.dot(x,x) - x[i]**2\n",
    "\n",
    "    v = np.copy(x)\n",
    "    v[i] = 1.0\n",
    "    \n",
    "    if dot_1on < np.finfo(float).eps:\n",
    "        beta = 0.0\n",
    "    else:\n",
    "        norm_x = sqrt(x[i]**2 + dot_1on)\n",
    "        if x[i] <= 0:\n",
    "            v[i] = x[i] - norm_x\n",
    "        else:\n",
    "            v[i] = -dot_1on / (x[i] + norm_x)\n",
    "        beta = 2 * v[i]**2 / (dot_1on + v[i]**2)\n",
    "        v = v / v[i]\n",
    "    \n",
    "    return np.eye(n) - beta * np.outer(v,v)\n"
   ]
  },
  {
   "cell_type": "code",
   "execution_count": 406,
   "metadata": {
    "collapsed": true
   },
   "outputs": [],
   "source": [
    "# polyharmonic spline rbf\n",
    "def phs(d,k):\n",
    "    \n",
    "    if k%2 == 0:\n",
    "        if d == 0:\n",
    "            return 0\n",
    "        else:\n",
    "            return (d**k) * np.log(d)\n",
    "    else:\n",
    "        return d**k\n",
    "\n",
    "# 1st order differential operator of polyharmonic spline rbf\n",
    "def diff_phs(d,d_i,k):\n",
    "    \n",
    "    if k%2 == 0:\n",
    "        if d == 0:\n",
    "            df = 0\n",
    "        else:\n",
    "            df = d_i * (d**(k-2)) * (1 + (k * np.log(d)))\n",
    "    else:\n",
    "        df = k * d_i * (d**(k-2))\n",
    "\n",
    "    return df\n",
    "\n",
    "def GA_rbf(d,ep):\n",
    "    \n",
    "    return np.exp(-(ep*d)**2)\n",
    "\n",
    "def L_GA_rbf(d,ep,k):\n",
    "    \n",
    "    epr2 = (ep*d)**2\n",
    "    \n",
    "    p = np.ones((k+1,d.shape[0]))\n",
    "    p[1] = 4*epr2 - 4\n",
    "    \n",
    "    for i in range(1,k):\n",
    "        p[i+1] = 4*(epr2 - (2*i + 1))*p[i] - (16*i**2)*p[i-1]\n",
    "    \n",
    "    return ep**(2*k) * p[k] * GA_rbf(d,ep)"
   ]
  },
  {
   "cell_type": "code",
   "execution_count": 1,
   "metadata": {
    "collapsed": false
   },
   "outputs": [],
   "source": [
    "def get_rbffd_weights(X,D,N):\n",
    "    \n",
    "    k = 3\n",
    "    n = X.shape[1]\n",
    "    \n",
    "    # apply householder transformation to center stencil on x-axis\n",
    "    H = householder(X[:,0],2)\n",
    "    Xp = np.matmul(H,X)\n",
    "    \n",
    "    # Create A Matrix\n",
    "    A_rbf = phs(D,k)\n",
    "    \n",
    "    # Polynomial part\n",
    "    N_poly = 21\n",
    "    \n",
    "    x = Xp[0].reshape((1,-1))\n",
    "    y = Xp[1].reshape((1,-1))\n",
    "    A_poly = np.concatenate((np.ones((1,n)),x,y,x**2,x*y,y**2,x**3,(x**2)*y,x*(y**2),y**3,x**4,(x**3)*y,(x**2)*(y**2),x*(y**3),y**4,x**5,(x**4)*y,(x**3)*(y**2),(x**2)*(y**3),x*(y**4),y**5),axis=0)\n",
    "    \n",
    "    \n",
    "    # create full PHS-RBF Matrix\n",
    "    A = np.concatenate((np.concatenate((A_rbf,np.transpose(A_poly)),axis=1),np.concatenate((A_poly,np.zeros((N_poly,N_poly))),axis=1)),axis=0)\n",
    "\n",
    "    # for d/dx\n",
    "    b_x = np.concatenate((diff_phs(D[0],x[0,0]-x[0],k),np.eye(1,N_poly,1).reshape((-1))),axis=0)\n",
    "    w_x = nla.solve(A,b_x)[0:n]\n",
    "    \n",
    "    # for d/dy\n",
    "    b_y = np.concatenate((diff_phs(D[0],y[0,0]-y[0],k),np.eye(1,N_poly,2).reshape((-1))),axis=0)\n",
    "    w_y = nla.solve(A,b_y)[0:n]\n",
    "    \n",
    "    # reverse householder transformation to get final weights\n",
    "    d1h3p = np.concatenate((w_x,w_y,np.zeros(n)),axis=0).reshape((3,-1))\n",
    "    d1h3 = np.matmul(H,d1h3p)\n",
    "         \n",
    "    d1v3p = np.append(np.zeros((2,7)),np.array([[-1/60,3/20,-3/4,0,3/4,-3/20,1/60]]),axis=0)\n",
    "    d1v3 = np.matmul(H,d1v3p)\n",
    "    \n",
    "    ### Hyperviscosity\n",
    "    ep = 0.044*np.sqrt(N) - 0.14\n",
    "    kk = 4\n",
    "    \n",
    "    ### horizontal component\n",
    "    # Create A Matrix\n",
    "    A_rbf = GA_rbf(D,ep)\n",
    "    \n",
    "    b_L = L_GA_rbf(D[0],ep,kk)\n",
    "    w_L = nla.solve(A_rbf,b_L)\n",
    "    \n",
    "    return d1h3,d1v3,w_L"
   ]
  },
  {
   "cell_type": "code",
   "execution_count": 5,
   "metadata": {
    "collapsed": false
   },
   "outputs": [],
   "source": [
    "def get_RBFFD_DMs(X,n):\n",
    "    # xx: 2D FP array (3xNnodes) describing the nodeset in cartesian coordinates\n",
    "    # n: stencil size\n",
    "    \n",
    "    # get number of nodes\n",
    "    Nh = X.shape[1]\n",
    "    \n",
    "    # tensor product to \"meshgrid\" coordinates\n",
    "    xx,yy,zz = np.tensordot(X, np.ones(Nh), 0)\n",
    "    \n",
    "    # distance matrix\n",
    "    D = np.sqrt((xx - xx.T)**2 + (yy - yy.T)**2 + (zz - zz.T)**2)\n",
    "    \n",
    "    # get n-point stencils\n",
    "    idx = np.argsort(D)[:,0:n]\n",
    "    \n",
    "    # initialize DMs\n",
    "    DM1h3 = np.empty((3,Nh,n))\n",
    "    DM1v3 = np.empty((3,Nh,7))\n",
    "    Lh = np.empty((Nh,n))\n",
    "    \n",
    "    # for each stencil get associated RBFFD differentiation weights\n",
    "    for i in range(Nh):\n",
    "        \n",
    "        d1h3,d1v3,Lh[i] = get_rbffd_weights(X[:,idx[i]],(D[idx[i]])[:,idx[i]],Nh)\n",
    "        \n",
    "        for j in range(3):\n",
    "            DM1h3[j,i,:] = d1h3[j,:]\n",
    "            DM1v3[j,i,:] = d1v3[j,:]\n",
    "        \n",
    "        if i%np.minimum(1000,int(Nh/5)) == 0:\n",
    "            print(\"get_RBFFD_DMs progress: %{0:d}\".format(int((100*i)/Nh)+1))\n",
    "            \n",
    "    return DM1h3,DM1v3,Lh,idx\n"
   ]
  },
  {
   "cell_type": "code",
   "execution_count": 8,
   "metadata": {
    "collapsed": false
   },
   "outputs": [
    {
     "name": "stdout",
     "output_type": "stream",
     "text": [
      "4.7 6.764357013041135e-15\n"
     ]
    }
   ],
   "source": []
  },
  {
   "cell_type": "code",
   "execution_count": null,
   "metadata": {
    "collapsed": true
   },
   "outputs": [],
   "source": []
  }
 ],
 "metadata": {
  "anaconda-cloud": {},
  "celltoolbar": "Raw Cell Format",
  "kernelspec": {
   "display_name": "Python [conda root]",
   "language": "python",
   "name": "conda-root-py"
  },
  "language_info": {
   "codemirror_mode": {
    "name": "ipython",
    "version": 3
   },
   "file_extension": ".py",
   "mimetype": "text/x-python",
   "name": "python",
   "nbconvert_exporter": "python",
   "pygments_lexer": "ipython3",
   "version": "3.5.2"
  }
 },
 "nbformat": 4,
 "nbformat_minor": 0
}
