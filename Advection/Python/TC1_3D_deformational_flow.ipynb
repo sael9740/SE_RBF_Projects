{
 "cells": [
  {
   "cell_type": "markdown",
   "metadata": {
    "collapsed": true
   },
   "source": [
    "## Test Case 1: Three Dimensional Deformational Flow"
   ]
  },
  {
   "cell_type": "markdown",
   "metadata": {},
   "source": [
    "### Import Libraries"
   ]
  },
  {
   "cell_type": "code",
   "execution_count": 1,
   "metadata": {
    "collapsed": true
   },
   "outputs": [],
   "source": [
    "import numpy as np\n",
    "from numpy import linalg as nla\n",
    "import matplotlib.pyplot as plt\n",
    "%matplotlib inline\n",
    "from mpl_toolkits.mplot3d.axes3d import Axes3D"
   ]
  },
  {
   "cell_type": "markdown",
   "metadata": {},
   "source": [
    "# Physical Constants"
   ]
  },
  {
   "cell_type": "code",
   "execution_count": 2,
   "metadata": {
    "collapsed": true
   },
   "outputs": [],
   "source": [
    "a = 6.37122*(10**6)  # radius of the Earth (m)\n",
    "g = 9.80616          # gravitational constant (m s^(-2))\n",
    "p0 = 100000.0        # reference surface pressure (Pa)\n",
    "cp = 1004.5          # specific heat capacity of dry air (J kg^(-1) K^(-1))\n",
    "Rd = 287.0           # gas constant for dry air (J kg^(-1) K^(-1))\n",
    "kappa = Rd/cp        # ratio of Rd to cp\n",
    "T0 = 300.0           # isothermal atmosphere temperature (K)\n",
    "pi = np.pi           # pi\n",
    "htop = 12000.0"
   ]
  },
  {
   "cell_type": "markdown",
   "metadata": {},
   "source": [
    "### Simulation Parameterizations"
   ]
  },
  {
   "cell_type": "markdown",
   "metadata": {},
   "source": [
    "### Test Case Parameterizations"
   ]
  },
  {
   "cell_type": "code",
   "execution_count": 3,
   "metadata": {
    "collapsed": true
   },
   "outputs": [],
   "source": [
    "tau = 1036800             # test case duration (s)\n",
    "b = .2                      # normalized pressure depth of the divergent layer\n",
    "omega0 = 23000.0 * pi / tau  # Maximum of the vertical pressure velocity in units of Pa s^(-1)\n",
    "\n",
    "phi_c = 0\n",
    "lmbda_c1 = 5*pi/6\n",
    "lmbda_c2 = 7*pi/6\n",
    "Z_c = 5000.0\n",
    "R_t = a/2\n",
    "Z_t = 1000.0"
   ]
  },
  {
   "cell_type": "markdown",
   "metadata": {},
   "source": [
    "### Coordinate Transformations\n",
    "\n",
    "The wind fields look nasty in cartesian so I prefer to just calculate them in shperical then go back to cartesian"
   ]
  },
  {
   "cell_type": "code",
   "execution_count": 4,
   "metadata": {
    "collapsed": true
   },
   "outputs": [],
   "source": [
    "# convert cartesian to spherical\n",
    "def c2s(x,y,z):\n",
    "\n",
    "    ############ calculate r\n",
    "    r = np.sqrt(x**2 + y**2 + z**2)\n",
    "\n",
    "    ############ calculate lambda\n",
    "    lmbda = np.arctan2(y,x)\n",
    "    \n",
    "    # map to lambda in [0,2pi)\n",
    "    lmbda = np.where(y < 0, lmbda + 2*pi, lmbda)\n",
    "\n",
    "    ############ calculate phi\n",
    "    phi = np.arctan2(z,np.sqrt(x**2 + y**2))\n",
    "    \n",
    "    return r,lmbda,phi\n",
    "\n",
    "\n",
    "\n",
    "# convert spherical to cartesian\n",
    "def s2c(r,lmbda,phi):\n",
    "    \n",
    "    x = r*np.cos(phi)*np.cos(lmbda)\n",
    "    y = r*np.cos(phi)*np.sin(lmbda)\n",
    "    z = r*np.sin(phi)\n",
    "    \n",
    "    return [x,y,z]"
   ]
  },
  {
   "cell_type": "markdown",
   "metadata": {},
   "source": [
    "### Density and Pressure Field\n",
    "\n",
    "The pressure field for this test case is given by\n",
    "\n",
    "$$p(r) = p_0 e^{-g\\frac{r-a}{R_{d}T_{0}}}$$\n",
    "\n",
    "which is the hydrostatic pressure of an isothermal atmosphere at $T=T_0$. The perscribed density field is given by\n",
    "\n",
    "$$\\rho(r) = \\rho_{0}e^{-(r-a)/H},\\quad \\text{where } \\rho_{0}=\\frac{p_{0}}{R_{d}T_{0}} \\text{ and } H = \\frac{R_{d}T_{0}}{g}$$\n",
    "\n"
   ]
  },
  {
   "cell_type": "code",
   "execution_count": 5,
   "metadata": {
    "collapsed": true
   },
   "outputs": [],
   "source": [
    "# Pressure field\n",
    "def p(r):\n",
    "    return p0*np.exp(-g*((r-a)/(Rd*T0)))\n",
    "\n",
    "# Perscribed density field\n",
    "def rho(r):\n",
    "    return (p0/(Rd*T0))*np.exp(-(r-a)*(g/(Rd*T0)))"
   ]
  },
  {
   "cell_type": "markdown",
   "metadata": {},
   "source": [
    "### Wind Field"
   ]
  },
  {
   "cell_type": "markdown",
   "metadata": {},
   "source": [
    "Translational latitude defined by\n",
    "\n",
    "$$\\lambda ' = \\lambda - 2\\pi t/\\tau$$"
   ]
  },
  {
   "cell_type": "code",
   "execution_count": 6,
   "metadata": {
    "collapsed": true
   },
   "outputs": [],
   "source": [
    "def lmbda_p_t(lmbda,t):\n",
    "    return lmbda - 2*pi*t/tau"
   ]
  },
  {
   "cell_type": "markdown",
   "metadata": {},
   "source": [
    "Vertical pressure velocity given by \n",
    "\n",
    "$$\\omega(\\lambda,\\phi,p,t) = \\omega_0\\sin{\\lambda'}\\cos{\\phi}\\cos{\\frac{2\\pi t}{\\tau}}s(p)$$\n",
    "\n",
    "where $s(p)$ is a smooth tapering function taking the vertical velocity to 0 at the top and bottom of the domain and is given by\n",
    "\n",
    "$$s(p) = 1 + e^{\\frac{p_{top}-p_0}{b p_{top}}} - e^{\\frac{p-p_0}{b p_{top}}} - e^{\\frac{p_{top}-p}{b p_{top}}}$$\n",
    "\n",
    "where $p_{top} = p(z_{top})$. The vertical velocity then takes the form\n",
    "\n",
    "$$u_r(\\lambda,\\phi,p,t) = -\\frac{\\omega(r,\\lambda,\\phi,t)}{g\\rho}$$"
   ]
  },
  {
   "cell_type": "code",
   "execution_count": 7,
   "metadata": {
    "collapsed": true
   },
   "outputs": [],
   "source": [
    "def u_r_t(r,lmbda,phi,t):\n",
    "    \n",
    "    p_top = p(a+htop)\n",
    "    \n",
    "    s = 1 + np.exp((p_top-p0)/(b*p_top)) + (-np.exp((p(r)-p0)/(b*p_top))) + (-np.exp((p_top-p(r))/(b*p_top)))\n",
    "    \n",
    "    omega = omega0*np.sin(lmbda_p_t(lmbda,t))*np.cos(phi)*np.cos(2*pi*t/tau)*s\n",
    "    \n",
    "    return - omega/(g*rho(r))"
   ]
  },
  {
   "cell_type": "markdown",
   "metadata": {},
   "source": [
    "The horizontal zonal $u_\\phi$ and meridonal $u_\\lambda$ wind velocities are given as the sum of a horizontal deformational component $(u^{(a)}_\\phi,u^{(a)}_\\lambda)$ and a horizontally divergent component $(u^{(d)}_\\phi,u^{(d)}_\\lambda)$, which are given by\n",
    "\n",
    "$$u^{(a)}_\\phi(\\lambda,\\phi,p,t) = \\frac{10a}{\\tau}\\text{sin}^2(\\lambda')\\sin{(2\\phi)}\\cos{(\\pi t/\\tau)}+\\frac{2\\pi a}{\\tau}\\cos{(\\phi)}$$\n",
    "$$v^{(a)}_\\lambda(\\lambda,\\phi,p,t) = \\frac{10a}{\\tau}\\sin{(2\\lambda')}\\cos{(\\phi)}\\cos{(\\pi t/\\tau)}$$\n",
    "\n",
    "$$u^{(d)}_\\phi(\\lambda,\\phi,p,t) = \\frac{\\omega_0 a}{b p_{top}}\\cos{(\\lambda')}\\text{cos}^2(\\phi)\\cos(2\\pi t/\\tau)\\big[- e^{\\frac{p-p_0}{b p_{top}}} + e^{\\frac{p_{top}-p}{b p_{top}}}\\big]$$ \n",
    "$$u^{(d)}_\\lambda(\\lambda,\\phi,p,t) = 0$$\n",
    "\n"
   ]
  },
  {
   "cell_type": "code",
   "execution_count": 8,
   "metadata": {
    "collapsed": true
   },
   "outputs": [],
   "source": [
    "def u_lmbda_t(r,lmbda,phi,t,c_a,c_d):\n",
    "    \n",
    "    p_top = p(a+htop)\n",
    "    \n",
    "    # deformational component\n",
    "    u_a = (10*a/tau)*(np.sin(lmbda_p_t(lmbda,t))**2)*np.sin(2*phi)*np.cos(pi*t/tau)+(2*pi*a/tau)*np.cos(phi)\n",
    "    \n",
    "    # divergent component\n",
    "    u_d = ((omega0*a)/(b*p_top)) * np.cos(lmbda_p_t(lmbda,t)) * (np.cos(phi)**2) * np.cos(2*pi*t/tau) * ((-np.exp((p(r)-p0)/(b*p_top))) + np.exp((p_top-p(r))/(b*p_top)))\n",
    "    \n",
    "    return c_a*u_a + c_d*u_d\n",
    "\n",
    "def u_phi_t(r,lmbda,phi,t):\n",
    "    \n",
    "    # deformational component\n",
    "    v_a = (10*a/tau) * np.sin(2*lmbda_p_t(lmbda,t)) * np.cos(phi)*np.cos(pi*t/tau)\n",
    "    \n",
    "    # no divergent component\n",
    "    \n",
    "    return v_a\n"
   ]
  },
  {
   "cell_type": "markdown",
   "metadata": {},
   "source": [
    "##### Converting to Cartesian Wind Components"
   ]
  },
  {
   "cell_type": "markdown",
   "metadata": {},
   "source": [
    "We then convert to cartesian by\n",
    "\n",
    "$$\\bar{u} = u_r\\hat{r} + u_\\lambda\\hat{\\lambda} + u_\\phi\\hat{\\phi}$$\n",
    "\n",
    "$$\\Rightarrow \\bar{u} = u_r(\\cos{\\phi}\\cos{\\lambda}\\hat{x}+\\cos{\\phi}\\sin{\\lambda}\\hat{y}+\\sin{\\phi}\\hat{z}) + u_\\lambda(\\sin{\\lambda}\\hat{x}+\\cos{\\lambda}\\hat{y}) + u_\\phi(-\\sin{\\phi}\\cos{\\lambda}\\hat{x}-\\sin{\\phi}\\sin{\\lambda}\\hat{y}+\\sin{\\phi}\\hat{z})$$\n",
    "\n",
    "$$\\Rightarrow \\bar{u} = (u_r\\cos{\\phi}\\cos{\\lambda}+u_\\lambda\\sin{\\lambda}-u_\\phi\\sin{\\phi}\\cos{\\lambda})\\hat{x} + (u_r\\cos{\\phi}\\sin{\\lambda}+u_\\lambda\\cos{\\lambda}-u_\\phi\\sin{\\phi}\\sin{\\lambda})\\hat{y} + (u_r+u_\\phi)\\sin{\\phi}\\hat{z}$$"
   ]
  },
  {
   "cell_type": "code",
   "execution_count": 9,
   "metadata": {
    "collapsed": true
   },
   "outputs": [],
   "source": [
    "def u_t(r,lmbda,phi,t):\n",
    "    \n",
    "    u_r = u_r_t(r,lmbda,phi,t)\n",
    "    u_lmbda = u_lmbda_t(r,lmbda,phi,t,1,1)\n",
    "    u_phi = u_phi_t(r,lmbda,phi,t)\n",
    "    \n",
    "    u_x = np.cos(phi)*np.cos(lmbda)*u_r + (-np.sin(lmbda)*u_lmbda) + (-np.sin(phi)*np.cos(lmbda)*u_phi)\n",
    "    u_y = np.cos(phi)*np.sin(lmbda)*u_r + np.cos(lmbda)*u_lmbda + (-np.sin(phi)*np.sin(lmbda)*u_phi)\n",
    "    u_z = np.sin(phi)*u_r + np.cos(phi)*u_phi\n",
    "    \n",
    "    return np.stack((u_x,u_y,u_z))\n",
    "    "
   ]
  },
  {
   "cell_type": "markdown",
   "metadata": {},
   "source": [
    "## Tracer Test Cases"
   ]
  },
  {
   "cell_type": "code",
   "execution_count": 10,
   "metadata": {
    "collapsed": true
   },
   "outputs": [],
   "source": [
    "def get_q_init(r,lmbda,phi):\n",
    "    \n",
    "    r_gc1 = a * np.arccos(np.sin(phi_c)*np.sin(phi) + np.cos(phi_c)*np.cos(phi)*np.cos(lmbda - lmbda_c1))\n",
    "    r_gc2 = a * np.arccos(np.sin(phi_c)*np.sin(phi) + np.cos(phi_c)*np.cos(phi)*np.cos(lmbda - lmbda_c2))\n",
    "    \n",
    "    d_1 = np.minimum((r_gc1/R_t)**2 + (((r - a) - Z_c)/Z_t)**2,1)\n",
    "    d_2 = np.minimum((r_gc2/R_t)**2 + (((r - a) - Z_c)/Z_t)**2,1)\n",
    "    \n",
    "    q_init = 1.0 + (np.cos(pi*d_1) + np.cos(pi*d_2))/2.0\n",
    "    \n",
    "    return q_init"
   ]
  },
  {
   "cell_type": "code",
   "execution_count": 11,
   "metadata": {
    "collapsed": true
   },
   "outputs": [],
   "source": [
    "# fig = plt.figure(figsize=(20,20))\n",
    "# ax = fig.add_subplot(2,2,1)\n",
    "# ax.scatter(rr[1][:,6],rr[2][:,6],c = u_lmbda_t(rr[0],rr[1],rr[2],0,1,0)[:,6])\n",
    "# ax = fig.add_subplot(2,2,2)\n",
    "# ax.scatter(rr[1][:,6],rr[2][:,6],c = u_lmbda_t(rr[0],rr[1],rr[2],0,0,1)[:,6])\n",
    "# ax = fig.add_subplot(2,2,3)\n",
    "# ax.scatter(rr[1][:,6],rr[2][:,6],c = u_phi_t(rr[0],rr[1],rr[2],0)[:,6])\n",
    "# ax = fig.add_subplot(2,2,4)\n",
    "# ax.scatter(rr[1][:,6],rr[2][:,6],c = u_r_t(rr[0],rr[1],rr[2],0)[:,6])"
   ]
  },
  {
   "cell_type": "code",
   "execution_count": 12,
   "metadata": {
    "collapsed": true
   },
   "outputs": [],
   "source": [
    "# print(np.max(u_lmbda_t(rr[0],rr[1],rr[2],0,1,0)[:,6]))\n",
    "# print(np.max(u_lmbda_t(rr[0],rr[1],rr[2],0,0,1)[:,6]))\n",
    "# print(np.max(u_phi_t(rr[0],rr[1],rr[2],0)[:,6]))\n",
    "# print(np.max(u_r_t(rr[0],rr[1],rr[2],0)[:,6]))"
   ]
  },
  {
   "cell_type": "code",
   "execution_count": null,
   "metadata": {
    "collapsed": true
   },
   "outputs": [],
   "source": []
  }
 ],
 "metadata": {
  "celltoolbar": "Raw Cell Format",
  "kernelspec": {
   "display_name": "Python [conda root]",
   "language": "python",
   "name": "conda-root-py"
  },
  "language_info": {
   "codemirror_mode": {
    "name": "ipython",
    "version": 3
   },
   "file_extension": ".py",
   "mimetype": "text/x-python",
   "name": "python",
   "nbconvert_exporter": "python",
   "pygments_lexer": "ipython3",
   "version": "3.5.2"
  }
 },
 "nbformat": 4,
 "nbformat_minor": 1
}
