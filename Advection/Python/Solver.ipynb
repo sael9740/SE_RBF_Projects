{
 "cells": [
  {
   "cell_type": "markdown",
   "metadata": {},
   "source": [
    "# 3D Scalar Advection Solver on a Sphere Using Radial Basis Functions\n",
    "\n",
    "Samm Elliott"
   ]
  },
  {
   "cell_type": "markdown",
   "metadata": {},
   "source": [
    "### The PDE\n",
    "The transport equation for a passive tracer with mixing ratio $q$, without sources or sinks, can be written in the conservative flux form given by\n",
    "\n",
    "$$\\frac{\\partial(\\rho q)}{\\partial t} + \\nabla\\cdot(\\rho q \\bar{u}) = 0.$$\n",
    "$$\\frac{\\partial{q}}{\\partial t} = - \\bar{u}\\cdot\\nabla{q} .$$\n",
    "\n",
    "where $\\rho$ is the air density, $\\bar{u}$ is the wind field and $\\nabla$ is the standard 3D gradient operator. The mass continuity equation is given by\n",
    "\n",
    "$$\\frac{\\partial\\rho}{\\partial t} + \\nabla\\cdot(\\rho \\bar{u}) = 0.$$"
   ]
  },
  {
   "cell_type": "markdown",
   "metadata": {},
   "source": [
    "### Import Libraries"
   ]
  },
  {
   "cell_type": "code",
   "execution_count": 34,
   "metadata": {
    "collapsed": true
   },
   "outputs": [],
   "source": [
    "import numpy as np\n",
    "from numpy import linalg as nla\n",
    "import matplotlib.pyplot as plt\n",
    "%matplotlib inline\n",
    "from mpl_toolkits.mplot3d.axes3d import Axes3D\n",
    "import scipy.sparse as ssparse\n",
    "from scipy.sparse import linalg as sla\n",
    "import time\n",
    "import netCDF4 as nc4\n",
    "import os"
   ]
  },
  {
   "cell_type": "markdown",
   "metadata": {},
   "source": [
    "# Physical Constants"
   ]
  },
  {
   "cell_type": "code",
   "execution_count": 35,
   "metadata": {
    "collapsed": true
   },
   "outputs": [],
   "source": [
    "a = 6.37122*(10**6)  # radius of the Earth (m)\n",
    "g = 9.80616          # gravitational constant (m s^(-2))\n",
    "p0 = 100000.0        # reference surface pressure (Pa)\n",
    "cp = 1004.5          # specific heat capacity of dry air (J kg^(-1) K^(-1))\n",
    "Rd = 287.0           # gas constant for dry air (J kg^(-1) K^(-1))\n",
    "kappa = Rd/cp        # ratio of Rd to cp\n",
    "T0 = 300.0           # isothermal atmosphere temperature (K)\n",
    "pi = np.pi           # pi"
   ]
  },
  {
   "cell_type": "markdown",
   "metadata": {},
   "source": [
    "### Simulation Parameterizations"
   ]
  },
  {
   "cell_type": "code",
   "execution_count": 36,
   "metadata": {
    "collapsed": true
   },
   "outputs": [],
   "source": [
    "htop = 12000.0       # height position of model top (m)\n",
    "Nh = 25             # number of horizontal nodes\n",
    "Nv = 30              # number of vertical nodes\n",
    "n = 10               # RBF stencil size\n",
    "dt = 1800\n",
    "hist_int = 3"
   ]
  },
  {
   "cell_type": "markdown",
   "metadata": {},
   "source": [
    "### Initializing the Nodeset\n",
    "\n",
    "We first read in the specified maximal determinant (MD) nodes and add vertical levels for our nodeset. These MD nodes were aquired from http://web.maths.unsw.edu.au/~rsw/Sphere/. Check ./md directory for available nodesets."
   ]
  },
  {
   "cell_type": "code",
   "execution_count": 37,
   "metadata": {
    "collapsed": false
   },
   "outputs": [],
   "source": [
    "# read in MD nodes - note these are for a unit sphere\n",
    "X_hat = np.loadtxt(\"../../nodesets/md.\"+str(Nh).zfill(5),usecols = (0,1,2)).T"
   ]
  },
  {
   "cell_type": "markdown",
   "metadata": {},
   "source": [
    "If $\\hat{x}$ is a MD nodepoint on a unit sphere, then the corresponding point $\\bar{x}$ in our domain for vertical level $n$ is given by\n",
    "\n",
    "$$\\bar{x} = (a+n\\frac{z_{top}}{N_v})\\hat{x}$$"
   ]
  },
  {
   "cell_type": "code",
   "execution_count": 38,
   "metadata": {
    "collapsed": false
   },
   "outputs": [],
   "source": [
    "# create nodeset\n",
    "h = htop/(Nv-1)\n",
    "rlvls = a + np.linspace(-3*h, htop + 3*h, num = Nv + 6)\n",
    "X = np.tensordot(X_hat, rlvls, 0)"
   ]
  },
  {
   "cell_type": "markdown",
   "metadata": {},
   "source": [
    "The following plots the MD nodes and the nodeset for our domain."
   ]
  },
  {
   "cell_type": "code",
   "execution_count": 39,
   "metadata": {
    "collapsed": true
   },
   "outputs": [],
   "source": [
    "# fig = plt.figure(figsize=(8,8))\n",
    "# ax = fig.add_subplot(1, 1, 1, projection='3d')\n",
    "# ax.scatter(md_nodes[0],md_nodes[1],md_nodes[2])"
   ]
  },
  {
   "cell_type": "code",
   "execution_count": 40,
   "metadata": {
    "collapsed": true
   },
   "outputs": [],
   "source": [
    "# fig = plt.figure(figsize=(20,20))\n",
    "# ax = fig.add_subplot(1, 1, 1, projection='3d')\n",
    "# ax.scatter(xx[0],xx[1],xx[2])"
   ]
  },
  {
   "cell_type": "markdown",
   "metadata": {
    "collapsed": true
   },
   "source": [
    "### Creating n-point Stencils\n",
    "\n",
    "We can just use the MD nodeset since the stencils will be valid for any radially scaled version of the nodeset. "
   ]
  },
  {
   "cell_type": "code",
   "execution_count": 41,
   "metadata": {
    "collapsed": false
   },
   "outputs": [
    {
     "name": "stdout",
     "output_type": "stream",
     "text": [
      "get_RBFFD_DMs progress: %1\n",
      "get_RBFFD_DMs progress: %21\n",
      "get_RBFFD_DMs progress: %41\n",
      "get_RBFFD_DMs progress: %61\n",
      "get_RBFFD_DMs progress: %81\n",
      "CPU times: user 18.3 ms, sys: 467 µs, total: 18.8 ms\n",
      "Wall time: 18.5 ms\n"
     ]
    }
   ],
   "source": [
    "%run RBFFD_Generation.ipynb\n",
    "%time DM1h3,DM1v3,Lh,idx = get_RBFFD_DMs(X_hat,n)\n",
    "# gamma = 145*Nh**-4\n",
    "depth = 3"
   ]
  },
  {
   "cell_type": "code",
   "execution_count": 42,
   "metadata": {
    "collapsed": false
   },
   "outputs": [
    {
     "data": {
      "text/plain": [
       "array([[ 0, 14, 16, 20,  8, 24,  4, 13, 10,  2],\n",
       "       [ 1, 10,  6, 18, 22, 19,  9, 14, 15,  7],\n",
       "       [ 2, 17, 11,  5, 16, 20, 23, 13,  4, 21],\n",
       "       [ 3, 19,  4,  9,  8, 12, 15, 14, 11,  6],\n",
       "       [ 4,  8, 12, 11,  3, 16,  0,  2, 23,  9],\n",
       "       [ 5, 17, 23,  7,  2, 21, 11, 18, 13, 15],\n",
       "       [ 6, 15, 18, 19,  1,  7, 23,  9, 22, 21],\n",
       "       [ 7,  5, 18, 23,  6, 15, 21, 17, 12,  1],\n",
       "       [ 8, 14,  4,  0,  3,  9, 16, 10, 12, 24],\n",
       "       [ 9, 19, 10,  3, 14,  8,  1,  6,  4, 24],\n",
       "       [10, 14,  1, 22,  9, 24, 13, 18, 19,  8],\n",
       "       [11,  2, 12,  4, 16, 23,  5, 15,  3, 20],\n",
       "       [12, 15, 11,  4, 23,  3, 19,  8, 16,  7],\n",
       "       [13, 17, 24, 22, 20, 21, 10, 18,  0,  2],\n",
       "       [14,  8, 10,  0, 24,  9,  3, 20, 22,  1],\n",
       "       [15,  6, 12, 19, 23,  7,  3, 18, 11,  1],\n",
       "       [16,  0, 11, 20,  2,  4,  8, 17, 12, 14],\n",
       "       [17,  2, 13,  5, 21, 20, 16,  7, 22, 24],\n",
       "       [18,  6, 21, 22,  7,  1, 13, 10,  5, 15],\n",
       "       [19,  6,  3,  9, 15,  1, 12, 10, 18,  8],\n",
       "       [20,  0, 13, 16, 17,  2, 24, 14, 11, 21],\n",
       "       [21, 18, 17, 13, 22,  5,  7,  6,  2, 20],\n",
       "       [22, 10, 18, 13, 21,  1, 24,  6, 17, 14],\n",
       "       [23,  5, 12,  7, 15, 11,  2,  6,  4, 17],\n",
       "       [24, 13, 14, 10, 22,  0, 20, 17,  8,  9]])"
      ]
     },
     "execution_count": 42,
     "metadata": {},
     "output_type": "execute_result"
    }
   ],
   "source": [
    "# fig = plt.figure(figsize=(12,12))\n",
    "# ax = fig.add_subplot(1, 1, 1, projection='3d')\n",
    "# ax.scatter(X_hat[0],X_hat[1],X_hat[2],marker='o',c='blue',s=10)\n",
    "# ax.scatter(X_hat[0,idx[0]],X_hat[1,idx[0]],X_hat[2,idx[0]],marker='o',c='green',s=50)\n",
    "# ax.view_init(60,30)\n",
    "idx"
   ]
  },
  {
   "cell_type": "markdown",
   "metadata": {
    "collapsed": true
   },
   "source": [
    "## Test Case 2: Hadley-like Circulation"
   ]
  },
  {
   "cell_type": "code",
   "execution_count": 10,
   "metadata": {
    "collapsed": true
   },
   "outputs": [],
   "source": [
    "# %run TC1_3D_deformational_flow.ipynb\n",
    "# TC = 1\n",
    "# plttype = 0"
   ]
  },
  {
   "cell_type": "code",
   "execution_count": 11,
   "metadata": {
    "collapsed": true
   },
   "outputs": [],
   "source": [
    "%run TC2_Hadley_circulation.ipynb\n",
    "TC = 2\n",
    "plttype = 1"
   ]
  },
  {
   "cell_type": "code",
   "execution_count": 12,
   "metadata": {
    "collapsed": true
   },
   "outputs": [],
   "source": [
    "r,lmbda,phi = c2s(X[0],X[1],X[2])"
   ]
  },
  {
   "cell_type": "markdown",
   "metadata": {
    "collapsed": true
   },
   "source": [
    "## Timestepping"
   ]
  },
  {
   "cell_type": "code",
   "execution_count": 13,
   "metadata": {
    "collapsed": true
   },
   "outputs": [],
   "source": [
    "def set_ghosts(var,method):\n",
    "    \n",
    "    for i in range(1,depth+1):\n",
    "        \n",
    "        if method == 0:\n",
    "            var[:,depth - i] = 0.0\n",
    "            var[:,(Nv + depth - 1) + i] = 0.0\n",
    "            \n",
    "        if method == 1:\n",
    "            var[:,depth - i] = var[:,depth + i]\n",
    "            var[:,(Nv + depth - 1) + i] = var[:,(Nv + depth - 1) - i]\n",
    "        \n",
    "        if method == 2:\n",
    "            var[:,depth - i] = 2*var[:,depth] - var[:,depth + i]\n",
    "            var[:,(Nv + depth - 1) + i] = 2*var[:,Nv + depth - 1] - var[:,(Nv + depth - 1) - i]\n",
    "            \n",
    "    return var"
   ]
  },
  {
   "cell_type": "code",
   "execution_count": 14,
   "metadata": {
    "collapsed": false
   },
   "outputs": [],
   "source": [
    "def eval_hyperviscosity(f,L,idx):\n",
    "    \n",
    "    # initialize gradient component arrays\n",
    "    Lf = np.empty((Nh,Nv))\n",
    "    \n",
    "    ### evaluate horizontal components\n",
    "    for i in range(Nh):\n",
    "        \n",
    "        L_i = L[i]\n",
    "        \n",
    "        for j in range(depth,Nv+depth):\n",
    "            \n",
    "            f_nbrs = f[idx[i],j]\n",
    "\n",
    "            Lf[i,j-3] = np.vdot(f_nbrs,L_i)\n",
    "\n",
    "    return Lf\n",
    "\n",
    "def eval_gradient(f,DM1h3,DM1v3,idx):\n",
    "    \n",
    "    # horizontal/vertical differentiation scaling factors\n",
    "    c_h = 1/rlvls\n",
    "    c_v = 1/h\n",
    "    \n",
    "    # initialize gradient component arrays\n",
    "    df_dx = np.empty((Nh,Nv))\n",
    "    df_dy = np.empty((Nh,Nv))\n",
    "    df_dz = np.empty((Nh,Nv))\n",
    "    \n",
    "    ### evaluate horizontal components\n",
    "    for i in range(Nh):\n",
    "        \n",
    "        Dx_i = DM1h3[0,i]\n",
    "        Dy_i = DM1h3[1,i]\n",
    "        Dz_i = DM1h3[2,i]\n",
    "        \n",
    "        for j in range(depth,Nv+depth):\n",
    "            \n",
    "            f_nbrs = f[idx[i],j]\n",
    "            \n",
    "            df_dx[i,j-3] = np.vdot(f_nbrs,Dx_i)*c_h[j]\n",
    "            df_dy[i,j-3] = np.vdot(f_nbrs,Dy_i)*c_h[j]\n",
    "            df_dz[i,j-3] = np.vdot(f_nbrs,Dz_i)*c_h[j]\n",
    "    \n",
    "    ### evaluate vertical components\n",
    "    for i in range(Nh):\n",
    "        \n",
    "        Dx_i = DM1v3[0,i]\n",
    "        Dy_i = DM1v3[1,i]\n",
    "        Dz_i = DM1v3[2,i]\n",
    "        \n",
    "        for j in range(depth,Nv+depth):\n",
    "            \n",
    "            f_nbrs = f[i,j-3:j+4]\n",
    "            \n",
    "            df_dx[i,j-3] += np.vdot(f_nbrs,Dx_i)*c_v\n",
    "            df_dy[i,j-3] += np.vdot(f_nbrs,Dy_i)*c_v\n",
    "            df_dz[i,j-3] += np.vdot(f_nbrs,Dz_i)*c_v\n",
    "    \n",
    "    return df_dx,df_dy,df_dz\n",
    "\n",
    "def eval_RHS(q,U,DM1h3,DM1v3,Lh,idx):\n",
    "\n",
    "    q = set_ghosts(q,1)\n",
    "    \n",
    "    dq_dx,dq_dy,dq_dz = eval_gradient(q,DM1h3,DM1v3,idx)\n",
    "    \n",
    "    Lq = eval_hyperviscosity(q,Lh,idx)\n",
    "    \n",
    "    gamma = -(1.5e4/a)*Nh**-4\n",
    "    \n",
    "    RHS = - ((U[0]*dq_dx) + (U[1]*dq_dy) + (U[2]*dq_dz)) + gamma*Lq\n",
    "    \n",
    "    return RHS\n"
   ]
  },
  {
   "cell_type": "code",
   "execution_count": 15,
   "metadata": {
    "collapsed": false
   },
   "outputs": [],
   "source": [
    "##### 1st order DM tests\n",
    "\n",
    "# ### Test 1\n",
    "# z = (r-a)\n",
    "# ff = (z/htop)**2\n",
    "# ff_x1 = ((2*X[0]*z)/(r*(htop**2)))[:,depth:Nv+depth]\n",
    "# ff_y1 = ((2*X[1]*z)/(r*(htop**2)))[:,depth:Nv+depth]\n",
    "# ff_z1 = ((2*X[2]*z)/(r*(htop**2)))[:,depth:Nv+depth]\n",
    "\n",
    "# ### Test 2\n",
    "# ff = np.sin(X[0]/a + pi/4) * np.sin(X[1]/a + pi/4) * np.sin(X[2]/a + pi/4) * a\n",
    "# ff_x1 = ((np.cos(X[0]/a + pi/4) * np.sin(X[1]/a + pi/4) * np.sin(X[2]/a + pi/4)))[:,depth:Nv+depth]\n",
    "# ff_y1 = ((np.sin(X[0]/a + pi/4) * np.cos(X[1]/a + pi/4) * np.sin(X[2]/a + pi/4)))[:,depth:Nv+depth]\n",
    "# ff_z1 = ((np.sin(X[0]/a + pi/4) * np.sin(X[1]/a + pi/4) * np.cos(X[2]/a + pi/4)))[:,depth:Nv+depth]\n",
    "\n",
    "\n",
    "# ### Evaluate Diffs\n",
    "# print(\"Testing DMs:\")\n",
    "# ff_x2 = rbffd_diff_h(ff,DM1h3[0],idx,1) + rbffd_diff_v(ff,DM1v3[0],1)\n",
    "# ff_y2 = rbffd_diff_h(ff,DM1h3[1],idx,1) + rbffd_diff_v(ff,DM1v3[1],1)\n",
    "# ff_z2 = rbffd_diff_h(ff,DM1h3[2],idx,1) + rbffd_diff_v(ff,DM1v3[2],1)\n",
    "# print(\"\\tf:\",\"\\n\\t\\tmin = {0:e}\".format(np.min(ff)),\"\\n\\t\\tmax = {0:e}\".format(np.max(ff)))\n",
    "# print(\"\\tf_x:\",\"\\n\\t\\tmax(f_x) = {0:e}\".format(np.max(np.abs(ff_x1))),\"\\n\\t\\tmax_err(f_x) = {0:e}\".format(np.max(np.abs(ff_x1-ff_x2))),\"\\n\\t\\tmedian_err(f_x) = {0:e}\".format(np.median(np.abs(ff_x1-ff_x2))),\"\\n\\t\\tave_err(f_x) = {0:e}\".format(np.mean(np.abs(ff_x1-ff_x2))))\n",
    "# print(\"\\tf_y:\",\"\\n\\t\\tmax(f_y) = {0:e}\".format(np.max(np.abs(ff_y1))),\"\\n\\t\\tmax_err(f_y) = {0:e}\".format(np.max(np.abs(ff_y1-ff_y2))),\"\\n\\t\\tmedian_err(f_y) = {0:e}\".format(np.median(np.abs(ff_y1-ff_y2))),\"\\n\\t\\tave_err(f_y) = {0:e}\".format(np.mean(np.abs(ff_y1-ff_y2))))\n",
    "# print(\"\\tf_z:\",\"\\n\\t\\tmax(f_z) = {0:e}\".format(np.max(np.abs(ff_z1))),\"\\n\\t\\tmax_err(f_z) = {0:e}\".format(np.max(np.abs(ff_z1-ff_z2))),\"\\n\\t\\tmedian_err(f_z) = {0:e}\".format(np.median(np.abs(ff_z1-ff_z2))),\"\\n\\t\\tave_err(f_z) = {0:e}\".format(np.mean(np.abs(ff_z1-ff_z2))))\n"
   ]
  },
  {
   "cell_type": "code",
   "execution_count": 16,
   "metadata": {
    "collapsed": true
   },
   "outputs": [],
   "source": [
    "def plot_var(var):\n",
    "    \n",
    "    plt.ion()\n",
    "    \n",
    "    if plttype == 0:\n",
    "        fig = plt.figure(figsize=(10,6))\n",
    "        ax = fig.add_subplot(1,1,1)\n",
    "        pltlvl = int(np.floor(5000/(2*h))+3)\n",
    "        cax = ax.scatter(lmbda[:,0],phi[:,0],c = var[:,pltlvl])\n",
    "        cbar = fig.colorbar(cax)\n",
    "        \n",
    "    if plttype == 1:\n",
    "        fig = plt.figure(figsize=(16,6))\n",
    "        ax = fig.add_subplot(1,1,1)\n",
    "        cond = np.abs(lmbda-pi) < .1\n",
    "        cax = ax.scatter(np.extract(cond,phi),np.extract(cond,r)-a,c = np.extract(cond,var),s=1.5e3/Nv)\n",
    "        cbar = fig.colorbar(cax)\n",
    "        \n",
    "    plt.show()"
   ]
  },
  {
   "cell_type": "code",
   "execution_count": 17,
   "metadata": {
    "collapsed": false,
    "scrolled": true
   },
   "outputs": [
    {
     "name": "stdout",
     "output_type": "stream",
     "text": [
      "Finished time step 1 of 144 total -> 31.6 seconds/timestep\n",
      "Finished time step 2 of 144 total -> 30.5 seconds/timestep\n",
      "Finished time step 3 of 144 total -> 30.5 seconds/timestep\n",
      "Finished time step 4 of 144 total -> 30.5 seconds/timestep\n",
      "Finished time step 5 of 144 total -> 30.6 seconds/timestep\n",
      "Finished time step 6 of 144 total -> 30.6 seconds/timestep\n",
      "Finished time step 7 of 144 total -> 30.3 seconds/timestep\n",
      "Finished time step 8 of 144 total -> 30.7 seconds/timestep\n",
      "Finished time step 9 of 144 total -> 30.4 seconds/timestep\n",
      "Finished time step 10 of 144 total -> 30.7 seconds/timestep\n",
      "Finished time step 11 of 144 total -> 30.4 seconds/timestep\n",
      "Finished time step 12 of 144 total -> 30.4 seconds/timestep\n",
      "Finished time step 13 of 144 total -> 30.5 seconds/timestep\n",
      "Finished time step 14 of 144 total -> 30.7 seconds/timestep\n",
      "Finished time step 15 of 144 total -> 30.5 seconds/timestep\n",
      "Finished time step 16 of 144 total -> 30.7 seconds/timestep\n",
      "Finished time step 17 of 144 total -> 30.9 seconds/timestep\n",
      "Finished time step 18 of 144 total -> 30.7 seconds/timestep\n",
      "Finished time step 19 of 144 total -> 30.6 seconds/timestep\n",
      "Finished time step 20 of 144 total -> 30.8 seconds/timestep\n",
      "Finished time step 21 of 144 total -> 30.8 seconds/timestep\n",
      "Finished time step 22 of 144 total -> 30.6 seconds/timestep\n",
      "Finished time step 23 of 144 total -> 30.6 seconds/timestep\n",
      "Finished time step 24 of 144 total -> 30.5 seconds/timestep\n",
      "Finished time step 25 of 144 total -> 30.7 seconds/timestep\n",
      "Finished time step 26 of 144 total -> 30.6 seconds/timestep\n",
      "Finished time step 27 of 144 total -> 30.7 seconds/timestep\n",
      "Finished time step 28 of 144 total -> 30.6 seconds/timestep\n",
      "Finished time step 29 of 144 total -> 30.7 seconds/timestep\n",
      "Finished time step 30 of 144 total -> 30.7 seconds/timestep\n",
      "Finished time step 31 of 144 total -> 30.8 seconds/timestep\n",
      "Finished time step 32 of 144 total -> 30.6 seconds/timestep\n",
      "Finished time step 33 of 144 total -> 30.6 seconds/timestep\n",
      "Finished time step 34 of 144 total -> 30.5 seconds/timestep\n",
      "Finished time step 35 of 144 total -> 30.6 seconds/timestep\n",
      "Finished time step 36 of 144 total -> 30.6 seconds/timestep\n",
      "Finished time step 37 of 144 total -> 30.5 seconds/timestep\n",
      "Finished time step 38 of 144 total -> 30.8 seconds/timestep\n",
      "Finished time step 39 of 144 total -> 30.6 seconds/timestep\n",
      "Finished time step 40 of 144 total -> 30.6 seconds/timestep\n",
      "Finished time step 41 of 144 total -> 30.4 seconds/timestep\n",
      "Finished time step 42 of 144 total -> 30.6 seconds/timestep\n",
      "Finished time step 43 of 144 total -> 30.5 seconds/timestep\n",
      "Finished time step 44 of 144 total -> 30.6 seconds/timestep\n",
      "Finished time step 45 of 144 total -> 30.5 seconds/timestep\n",
      "Finished time step 46 of 144 total -> 30.6 seconds/timestep\n",
      "Finished time step 47 of 144 total -> 30.7 seconds/timestep\n",
      "Finished time step 48 of 144 total -> 33.2 seconds/timestep\n",
      "Finished time step 49 of 144 total -> 30.5 seconds/timestep\n",
      "Finished time step 50 of 144 total -> 30.4 seconds/timestep\n",
      "Finished time step 51 of 144 total -> 30.8 seconds/timestep\n",
      "Finished time step 52 of 144 total -> 30.5 seconds/timestep\n",
      "Finished time step 53 of 144 total -> 30.8 seconds/timestep\n",
      "Finished time step 54 of 144 total -> 30.5 seconds/timestep\n",
      "Finished time step 55 of 144 total -> 30.4 seconds/timestep\n",
      "Finished time step 56 of 144 total -> 30.6 seconds/timestep\n",
      "Finished time step 57 of 144 total -> 31.2 seconds/timestep\n",
      "Finished time step 58 of 144 total -> 33.3 seconds/timestep\n",
      "Finished time step 59 of 144 total -> 32.3 seconds/timestep\n",
      "Finished time step 60 of 144 total -> 30.7 seconds/timestep\n",
      "Finished time step 61 of 144 total -> 30.4 seconds/timestep\n",
      "Finished time step 62 of 144 total -> 31.7 seconds/timestep\n",
      "Finished time step 63 of 144 total -> 30.4 seconds/timestep\n",
      "Finished time step 64 of 144 total -> 30.4 seconds/timestep\n",
      "Finished time step 65 of 144 total -> 30.2 seconds/timestep\n",
      "Finished time step 66 of 144 total -> 30.3 seconds/timestep\n",
      "Finished time step 67 of 144 total -> 30.4 seconds/timestep\n",
      "Finished time step 68 of 144 total -> 30.4 seconds/timestep\n",
      "Finished time step 69 of 144 total -> 30.3 seconds/timestep\n",
      "Finished time step 70 of 144 total -> 30.9 seconds/timestep\n",
      "Finished time step 71 of 144 total -> 31.4 seconds/timestep\n",
      "Finished time step 72 of 144 total -> 30.8 seconds/timestep\n",
      "Finished time step 73 of 144 total -> 30.4 seconds/timestep\n",
      "Finished time step 74 of 144 total -> 33.0 seconds/timestep\n",
      "Finished time step 75 of 144 total -> 95.3 seconds/timestep\n",
      "Finished time step 76 of 144 total -> 191.5 seconds/timestep\n",
      "Finished time step 77 of 144 total -> 186.0 seconds/timestep\n",
      "Finished time step 78 of 144 total -> 188.1 seconds/timestep\n",
      "Finished time step 79 of 144 total -> 178.5 seconds/timestep\n",
      "Finished time step 80 of 144 total -> 32.7 seconds/timestep\n",
      "Finished time step 81 of 144 total -> 32.5 seconds/timestep\n",
      "Finished time step 82 of 144 total -> 32.8 seconds/timestep\n",
      "Finished time step 83 of 144 total -> 30.9 seconds/timestep\n",
      "Finished time step 84 of 144 total -> 31.1 seconds/timestep\n",
      "Finished time step 85 of 144 total -> 30.5 seconds/timestep\n",
      "Finished time step 86 of 144 total -> 30.4 seconds/timestep\n",
      "Finished time step 87 of 144 total -> 31.8 seconds/timestep\n",
      "Finished time step 88 of 144 total -> 30.3 seconds/timestep\n",
      "Finished time step 89 of 144 total -> 31.3 seconds/timestep\n",
      "Finished time step 90 of 144 total -> 31.6 seconds/timestep\n",
      "Finished time step 91 of 144 total -> 31.0 seconds/timestep\n",
      "Finished time step 92 of 144 total -> 30.5 seconds/timestep\n",
      "Finished time step 93 of 144 total -> 33.3 seconds/timestep\n",
      "Finished time step 94 of 144 total -> 35.9 seconds/timestep\n",
      "Finished time step 95 of 144 total -> 33.6 seconds/timestep\n",
      "Finished time step 96 of 144 total -> 34.4 seconds/timestep\n",
      "Finished time step 97 of 144 total -> 33.0 seconds/timestep\n",
      "Finished time step 98 of 144 total -> 31.1 seconds/timestep\n",
      "Finished time step 99 of 144 total -> 30.5 seconds/timestep\n",
      "Finished time step 100 of 144 total -> 31.3 seconds/timestep\n",
      "Finished time step 101 of 144 total -> 30.6 seconds/timestep\n",
      "Finished time step 102 of 144 total -> 30.5 seconds/timestep\n",
      "Finished time step 103 of 144 total -> 30.2 seconds/timestep\n",
      "Finished time step 104 of 144 total -> 30.2 seconds/timestep\n",
      "Finished time step 105 of 144 total -> 30.3 seconds/timestep\n",
      "Finished time step 106 of 144 total -> 30.3 seconds/timestep\n",
      "Finished time step 107 of 144 total -> 30.3 seconds/timestep\n",
      "Finished time step 108 of 144 total -> 30.2 seconds/timestep\n",
      "Finished time step 109 of 144 total -> 30.3 seconds/timestep\n",
      "Finished time step 110 of 144 total -> 30.3 seconds/timestep\n",
      "Finished time step 111 of 144 total -> 30.3 seconds/timestep\n",
      "Finished time step 112 of 144 total -> 30.2 seconds/timestep\n",
      "Finished time step 113 of 144 total -> 31.3 seconds/timestep\n",
      "Finished time step 114 of 144 total -> 30.3 seconds/timestep\n",
      "Finished time step 115 of 144 total -> 30.3 seconds/timestep\n",
      "Finished time step 116 of 144 total -> 30.3 seconds/timestep\n",
      "Finished time step 117 of 144 total -> 30.8 seconds/timestep\n",
      "Finished time step 118 of 144 total -> 31.7 seconds/timestep\n",
      "Finished time step 119 of 144 total -> 30.8 seconds/timestep\n",
      "Finished time step 120 of 144 total -> 30.6 seconds/timestep\n",
      "Finished time step 121 of 144 total -> 30.3 seconds/timestep\n",
      "Finished time step 122 of 144 total -> 30.3 seconds/timestep\n",
      "Finished time step 123 of 144 total -> 30.4 seconds/timestep\n",
      "Finished time step 124 of 144 total -> 30.4 seconds/timestep\n",
      "Finished time step 125 of 144 total -> 30.4 seconds/timestep\n",
      "Finished time step 126 of 144 total -> 30.2 seconds/timestep\n",
      "Finished time step 127 of 144 total -> 30.4 seconds/timestep\n",
      "Finished time step 128 of 144 total -> 30.5 seconds/timestep\n",
      "Finished time step 129 of 144 total -> 30.6 seconds/timestep\n",
      "Finished time step 130 of 144 total -> 30.4 seconds/timestep\n",
      "Finished time step 131 of 144 total -> 30.6 seconds/timestep\n",
      "Finished time step 132 of 144 total -> 30.5 seconds/timestep\n",
      "Finished time step 133 of 144 total -> 30.1 seconds/timestep\n",
      "Finished time step 134 of 144 total -> 30.5 seconds/timestep\n",
      "Finished time step 135 of 144 total -> 30.4 seconds/timestep\n",
      "Finished time step 136 of 144 total -> 30.3 seconds/timestep\n",
      "Finished time step 137 of 144 total -> 30.4 seconds/timestep\n",
      "Finished time step 138 of 144 total -> 30.4 seconds/timestep\n",
      "Finished time step 139 of 144 total -> 30.2 seconds/timestep\n",
      "Finished time step 140 of 144 total -> 30.3 seconds/timestep\n",
      "Finished time step 141 of 144 total -> 30.5 seconds/timestep\n",
      "Finished time step 142 of 144 total -> 30.6 seconds/timestep\n",
      "Finished time step 143 of 144 total -> 30.3 seconds/timestep\n",
      "Finished time step 144 of 144 total -> 30.2 seconds/timestep\n"
     ]
    }
   ],
   "source": [
    "nsteps = int(tau/dt)\n",
    "plot_int = 1000\n",
    "\n",
    "q_init = set_ghosts(get_q_init(r,lmbda,phi),0)\n",
    "q = np.copy(q_init)\n",
    "q_temp = np.copy(q_init)\n",
    "\n",
    "q_hist = q_init.reshape((1,Nh,Nv+6))\n",
    "hist_step = 0\n",
    "\n",
    "for tstep in range(nsteps):\n",
    "    \n",
    "    start = time.time()\n",
    "        \n",
    "    # RK4 step 1\n",
    "    t = tstep*dt\n",
    "    U = u_t(r,lmbda,phi,t)[:,:,depth:Nv+depth]\n",
    "    RHS = eval_RHS(q,U,DM1h3,DM1v3,Lh,idx)\n",
    "    d = RHS\n",
    "    \n",
    "    # RK4 step 2\n",
    "    t += dt/2\n",
    "    U = u_t(r,lmbda,phi,t)[:,:,depth:Nv+depth]\n",
    "    q_temp[:,depth:Nv+depth] = q[:,depth:Nv+depth] + (dt/2)*RHS\n",
    "    RHS = eval_RHS(q_temp,U,DM1h3,DM1v3,Lh,idx)\n",
    "    d += 2*RHS\n",
    "    \n",
    "    # RK4 step 3\n",
    "    q_temp[:,depth:Nv+depth] = q[:,depth:Nv+depth] + (dt/2)*RHS\n",
    "    RHS = eval_RHS(q_temp,U,DM1h3,DM1v3,Lh,idx)\n",
    "    d += 2*RHS\n",
    "    \n",
    "    # RK4 step 4\n",
    "    t += dt/2\n",
    "    U = u_t(r,lmbda,phi,t)[:,:,depth:Nv+depth]\n",
    "    q_temp[:,depth:Nv+depth] = q[:,depth:Nv+depth] + dt*RHS\n",
    "    RHS = eval_RHS(q_temp,U,DM1h3,DM1v3,Lh,idx)\n",
    "    d += RHS\n",
    "    \n",
    "    # Update tracers\n",
    "    q[:,depth:Nv+depth] += (dt/6)*d\n",
    "    \n",
    "    t_total = time.time() - start\n",
    "    \n",
    "    \n",
    "    print(\"Finished time step\",tstep+1,\"of\",nsteps,\"total -> {0:.1f} seconds/timestep\".format(t_total))\n",
    "    \n",
    "    if (tstep+1)%plot_int == 0:\n",
    "        plot_var(q)\n",
    "    \n",
    "    if (tstep+1)%hist_int == 0:\n",
    "        hist_step += 1\n",
    "        q_hist = np.append(q_hist,q.reshape((1,Nh,Nv+6)),axis=0)\n",
    "        "
   ]
  },
  {
   "cell_type": "code",
   "execution_count": 18,
   "metadata": {
    "collapsed": true
   },
   "outputs": [],
   "source": [
    "times = np.linspace(0,tau,num = hist_step+1)"
   ]
  },
  {
   "cell_type": "code",
   "execution_count": 20,
   "metadata": {
    "collapsed": false
   },
   "outputs": [],
   "source": [
    "outputFile = \"results/TC\"+str(TC)+\"_\"+str(Nh)+\"h_\"+str(Nv)+\"v_\"+str(dt)+\"dt.nc\"\n",
    "# os.remove(outputFile)\n",
    "ncf_root = nc4.Dataset(outputFile,\"w\",\"NETCDF4\")\n",
    "ncd_time = ncf_root.createDimension(\"tstep\", hist_step+1)\n",
    "ncd_hid = ncf_root.createDimension(\"hid\", Nh)\n",
    "ncd_vid = ncf_root.createDimension(\"vid\", Nv+6)\n",
    "ncv_r = ncf_root.createVariable(\"r\",\"f8\",(\"hid\",\"vid\"))\n",
    "ncv_lmbda = ncf_root.createVariable(\"lmbda\",\"f8\",(\"hid\",\"vid\"))\n",
    "ncv_phi = ncf_root.createVariable(\"phi\",\"f8\",(\"hid\",\"vid\"))\n",
    "ncv_time = ncf_root.createVariable(\"times\",\"f8\",(\"tstep\"))\n",
    "ncv_q_hist = ncf_root.createVariable(\"q_hist\",\"f8\",(\"tstep\",\"hid\",\"vid\"))\n",
    "ncf_root.variables[\"r\"][:] = r[:]\n",
    "ncf_root.variables[\"lmbda\"][:] = lmbda\n",
    "ncf_root.variables[\"phi\"][:] = phi\n",
    "ncf_root.variables[\"times\"][:] = times\n",
    "ncf_root.variables[\"q_hist\"][:] = q_hist\n",
    "ncf_root.close()"
   ]
  },
  {
   "cell_type": "code",
   "execution_count": null,
   "metadata": {
    "collapsed": false
   },
   "outputs": [],
   "source": [
    "### Extrema\n",
    "q_min = np.min(q)\n",
    "q_max = np.max(q)\n",
    "\n",
    "### Solution Error Norms\n",
    "l1 = np.sum(np.abs(q_init - q)) / np.sum(np.abs(q_init))\n",
    "l2 = np.sqrt(np.sum((q_init - q)**2) / np.sum(q_init**2))\n",
    "linf = np.max(np.abs(q_init - q)) / np.max(np.abs(q_init))\n",
    "\n",
    "### Mass Conservation\n",
    "rho_0 = rho(r)\n",
    "V = (4*pi*r**2)*h/Nh\n",
    "Mt_tot = np.sum(rho_0*V*q)\n",
    "M0_tot = np.sum(rho_0*V*q_init)\n",
    "\n",
    "### Print Error Results\n",
    "print(\"Solution Extrema:\\n\\tMin:  \\t{0:.2e}\".format(q_min),\"\\n\\tMax:  \\t{0:.2e}\".format(q_max))\n",
    "print(\"Error Results:\\n\\tL_1:  \\t{0:.2e}\".format(l1),\"\\n\\tL_2:  \\t{0:.2e}\".format(l2),\"\\n\\tL_inf:\\t{0:.2e}\".format(linf))\n",
    "print(\"\\nTracer Mass Difference:\\t%{0:.3f}\".format(np.abs(100*(Mt_tot-M0_tot)/M0_tot)))\n"
   ]
  },
  {
   "cell_type": "code",
   "execution_count": null,
   "metadata": {
    "collapsed": true
   },
   "outputs": [],
   "source": [
    "# Config: Nh = 4096, Nv = 30, n = 55, dt = 1800, \n",
    "# Extrema: Min = -.21, Max = 1.08 --- at tau/2: q_min = -0.72, q_max = 1.88\n",
    "# Error: L_1 = .083, L_2 = .077, L_inf = .26\n",
    "# Tracer Mass Difference: %.87\n",
    "# Timing: 10.5 seconds/timestep\n",
    "\n",
    "# Config: Nh = 12100, Nv = 30, n = 55, dt = 1800, \n",
    "# Extrema: Min = -.056, Max = .96 \n",
    "# Error: L_1 = .037, L_2 = .033, L_inf = .093\n",
    "# Tracer Mass Difference: %0.005\n",
    "# Timing: 27 seconds/timestep\n"
   ]
  },
  {
   "cell_type": "code",
   "execution_count": null,
   "metadata": {
    "collapsed": false
   },
   "outputs": [],
   "source": []
  }
 ],
 "metadata": {
  "anaconda-cloud": {},
  "celltoolbar": "Raw Cell Format",
  "kernelspec": {
   "display_name": "Python [conda root]",
   "language": "python",
   "name": "conda-root-py"
  },
  "language_info": {
   "codemirror_mode": {
    "name": "ipython",
    "version": 3
   },
   "file_extension": ".py",
   "mimetype": "text/x-python",
   "name": "python",
   "nbconvert_exporter": "python",
   "pygments_lexer": "ipython3",
   "version": "3.5.2"
  }
 },
 "nbformat": 4,
 "nbformat_minor": 1
}
