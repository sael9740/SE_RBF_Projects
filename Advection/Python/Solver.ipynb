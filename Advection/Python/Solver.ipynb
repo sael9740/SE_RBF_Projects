{
 "cells": [
  {
   "cell_type": "markdown",
   "metadata": {},
   "source": [
    "# 3D Scalar Advection Solver on a Sphere Using Radial Basis Functions\n",
    "\n",
    "Samm Elliott"
   ]
  },
  {
   "cell_type": "markdown",
   "metadata": {},
   "source": [
    "### The PDE\n",
    "The transport equation for a passive tracer with mixing ratio $q$, without sources or sinks, can be written in the conservative flux form given by\n",
    "\n",
    "$$\\frac{\\partial(\\rho q)}{\\partial t} + \\nabla\\cdot(\\rho q \\bar{u}) = 0.$$\n",
    "$$\\frac{\\partial{q}}{\\partial t} = - \\bar{u}\\cdot\\nabla{q} .$$\n",
    "\n",
    "where $\\rho$ is the air density, $\\bar{u}$ is the wind field and $\\nabla$ is the standard 3D gradient operator. The mass continuity equation is given by\n",
    "\n",
    "$$\\frac{\\partial\\rho}{\\partial t} + \\nabla\\cdot(\\rho \\bar{u}) = 0.$$"
   ]
  },
  {
   "cell_type": "markdown",
   "metadata": {},
   "source": [
    "### Import Libraries"
   ]
  },
  {
   "cell_type": "code",
   "execution_count": null,
   "metadata": {
    "collapsed": true
   },
   "outputs": [],
   "source": [
    "import numpy as np\n",
    "from numpy import linalg as nla\n",
    "import matplotlib.pyplot as plt\n",
    "%matplotlib inline\n",
    "from mpl_toolkits.mplot3d.axes3d import Axes3D\n",
    "import scipy.sparse as ssparse\n",
    "from scipy.sparse import linalg as sla\n",
    "import time\n",
    "import netCDF4 as nc4\n",
    "import os"
   ]
  },
  {
   "cell_type": "markdown",
   "metadata": {},
   "source": [
    "# Physical Constants"
   ]
  },
  {
   "cell_type": "code",
   "execution_count": null,
   "metadata": {
    "collapsed": true
   },
   "outputs": [],
   "source": [
    "a = 6.37122*(10**6)  # radius of the Earth (m)\n",
    "g = 9.80616          # gravitational constant (m s^(-2))\n",
    "p0 = 100000.0        # reference surface pressure (Pa)\n",
    "cp = 1004.5          # specific heat capacity of dry air (J kg^(-1) K^(-1))\n",
    "Rd = 287.0           # gas constant for dry air (J kg^(-1) K^(-1))\n",
    "kappa = Rd/cp        # ratio of Rd to cp\n",
    "T0 = 300.0           # isothermal atmosphere temperature (K)\n",
    "pi = np.pi           # pi"
   ]
  },
  {
   "cell_type": "markdown",
   "metadata": {},
   "source": [
    "### Simulation Parameterizations"
   ]
  },
  {
   "cell_type": "code",
   "execution_count": null,
   "metadata": {
    "collapsed": true
   },
   "outputs": [],
   "source": [
    "htop = 12000.0       # height position of model top (m)\n",
    "Nh = 4096            # number of horizontal nodes\n",
    "# Nh = 12100            # number of horizontal nodes\n",
    "# Nv = 6              # number of vertical nodes\n",
    "Nv = 24              # number of vertical nodes\n",
    "n = 55               # RBF stencil size\n",
    "dt = 1800"
   ]
  },
  {
   "cell_type": "markdown",
   "metadata": {},
   "source": [
    "### Initializing the Nodeset\n",
    "\n",
    "We first read in the specified maximal determinant (MD) nodes and add vertical levels for our nodeset. These MD nodes were aquired from http://web.maths.unsw.edu.au/~rsw/Sphere/. Check ./md directory for available nodesets."
   ]
  },
  {
   "cell_type": "code",
   "execution_count": null,
   "metadata": {
    "collapsed": true
   },
   "outputs": [],
   "source": [
    "# read in MD nodes - note these are for a unit sphere\n",
    "X_hat = np.loadtxt(\"nodesets/md.\"+str(Nh).zfill(5),usecols = (0,1,2)).T"
   ]
  },
  {
   "cell_type": "markdown",
   "metadata": {},
   "source": [
    "If $\\hat{x}$ is a MD nodepoint on a unit sphere, then the corresponding point $\\bar{x}$ in our domain for vertical level $n$ is given by\n",
    "\n",
    "$$\\bar{x} = (a+n\\frac{z_{top}}{N_v})\\hat{x}$$"
   ]
  },
  {
   "cell_type": "code",
   "execution_count": null,
   "metadata": {
    "collapsed": false
   },
   "outputs": [],
   "source": [
    "# create nodeset\n",
    "h = htop/(Nv-1)\n",
    "rlvls = a + np.linspace(-3*h, htop + 3*h, num = Nv + 6)\n",
    "X = np.tensordot(X_hat, rlvls, 0)"
   ]
  },
  {
   "cell_type": "markdown",
   "metadata": {},
   "source": [
    "The following plots the MD nodes and the nodeset for our domain."
   ]
  },
  {
   "cell_type": "code",
   "execution_count": null,
   "metadata": {
    "collapsed": true
   },
   "outputs": [],
   "source": [
    "# fig = plt.figure(figsize=(8,8))\n",
    "# ax = fig.add_subplot(1, 1, 1, projection='3d')\n",
    "# ax.scatter(md_nodes[0],md_nodes[1],md_nodes[2])"
   ]
  },
  {
   "cell_type": "code",
   "execution_count": null,
   "metadata": {
    "collapsed": true
   },
   "outputs": [],
   "source": [
    "# fig = plt.figure(figsize=(20,20))\n",
    "# ax = fig.add_subplot(1, 1, 1, projection='3d')\n",
    "# ax.scatter(xx[0],xx[1],xx[2])"
   ]
  },
  {
   "cell_type": "markdown",
   "metadata": {
    "collapsed": true
   },
   "source": [
    "### Creating n-point Stencils\n",
    "\n",
    "We can just use the MD nodeset since the stencils will be valid for any radially scaled version of the nodeset. "
   ]
  },
  {
   "cell_type": "code",
   "execution_count": null,
   "metadata": {
    "collapsed": false
   },
   "outputs": [],
   "source": [
    "%run RBFFD_Generation.ipynb\n",
    "%time DM1h3,DM1v3,Lh,idx = get_RBFFD_DMs(X_hat,n)\n",
    "# gamma = 145*Nh**-4\n",
    "depth = 3"
   ]
  },
  {
   "cell_type": "code",
   "execution_count": null,
   "metadata": {
    "collapsed": true
   },
   "outputs": [],
   "source": [
    "# fig = plt.figure(figsize=(12,12))\n",
    "# ax = fig.add_subplot(1, 1, 1, projection='3d')\n",
    "# ax.scatter(X_hat[0],X_hat[1],X_hat[2],marker='o',c='blue',s=10)\n",
    "# ax.scatter(X_hat[0,idx[0]],X_hat[1,idx[0]],X_hat[2,idx[0]],marker='o',c='green',s=50)\n",
    "# ax.view_init(60,30)\n"
   ]
  },
  {
   "cell_type": "markdown",
   "metadata": {
    "collapsed": true
   },
   "source": [
    "## Test Case 2: Hadley-like Circulation"
   ]
  },
  {
   "cell_type": "code",
   "execution_count": null,
   "metadata": {
    "collapsed": true
   },
   "outputs": [],
   "source": [
    "%run TC1_3D_deformational_flow.ipynb\n",
    "TC = 1\n",
    "plttype = 0"
   ]
  },
  {
   "cell_type": "code",
   "execution_count": null,
   "metadata": {
    "collapsed": true
   },
   "outputs": [],
   "source": [
    "# %run TC2_Hadley_circulation.ipynb\n",
    "# TC = 2\n",
    "# plttype = 1"
   ]
  },
  {
   "cell_type": "code",
   "execution_count": null,
   "metadata": {
    "collapsed": true
   },
   "outputs": [],
   "source": [
    "r,lmbda,phi = c2s(X[0],X[1],X[2])"
   ]
  },
  {
   "cell_type": "markdown",
   "metadata": {
    "collapsed": true
   },
   "source": [
    "## Timestepping"
   ]
  },
  {
   "cell_type": "code",
   "execution_count": null,
   "metadata": {
    "collapsed": true
   },
   "outputs": [],
   "source": [
    "def set_ghosts(var,method):\n",
    "    \n",
    "    for i in range(1,depth+1):\n",
    "        \n",
    "        if method == 0:\n",
    "            var[:,depth - i] = 0.0\n",
    "            var[:,(Nv + depth - 1) + i] = 0.0\n",
    "            \n",
    "        if method == 1:\n",
    "            var[:,depth - i] = var[:,depth + i]\n",
    "            var[:,(Nv + depth - 1) + i] = var[:,(Nv + depth - 1) - i]\n",
    "        \n",
    "        if method == 2:\n",
    "            var[:,depth - i] = 2*var[:,depth] - var[:,depth + i]\n",
    "            var[:,(Nv + depth - 1) + i] = 2*var[:,Nv + depth - 1] - var[:,(Nv + depth - 1) - i]\n",
    "            \n",
    "    return var"
   ]
  },
  {
   "cell_type": "code",
   "execution_count": null,
   "metadata": {
    "collapsed": false
   },
   "outputs": [],
   "source": [
    "def eval_hyperviscosity(f,L,idx):\n",
    "    \n",
    "    # initialize gradient component arrays\n",
    "    Lf = np.empty((Nh,Nv))\n",
    "    \n",
    "    ### evaluate horizontal components\n",
    "    for i in range(Nh):\n",
    "        \n",
    "        L_i = L[i]\n",
    "        \n",
    "        for j in range(depth,Nv+depth):\n",
    "            \n",
    "            f_nbrs = f[idx[i],j]\n",
    "\n",
    "            Lf[i,j-3] = np.vdot(f_nbrs,L_i)\n",
    "\n",
    "    return Lf\n",
    "\n",
    "def eval_gradient(f,DM1h3,DM1v3,idx):\n",
    "    \n",
    "    # horizontal/vertical differentiation scaling factors\n",
    "    c_h = 1/rlvls\n",
    "    c_v = 1/h\n",
    "    \n",
    "    # initialize gradient component arrays\n",
    "    df_dx = np.empty((Nh,Nv))\n",
    "    df_dy = np.empty((Nh,Nv))\n",
    "    df_dz = np.empty((Nh,Nv))\n",
    "    \n",
    "    ### evaluate horizontal components\n",
    "    for i in range(Nh):\n",
    "        \n",
    "        Dx_i = DM1h3[0,i]\n",
    "        Dy_i = DM1h3[1,i]\n",
    "        Dz_i = DM1h3[2,i]\n",
    "        \n",
    "        for j in range(depth,Nv+depth):\n",
    "            \n",
    "            f_nbrs = f[idx[i],j]\n",
    "            \n",
    "            df_dx[i,j-3] = np.vdot(f_nbrs,Dx_i)*c_h[j]\n",
    "            df_dy[i,j-3] = np.vdot(f_nbrs,Dy_i)*c_h[j]\n",
    "            df_dz[i,j-3] = np.vdot(f_nbrs,Dz_i)*c_h[j]\n",
    "    \n",
    "    ### evaluate vertical components\n",
    "    for i in range(Nh):\n",
    "        \n",
    "        Dx_i = DM1v3[0,i]\n",
    "        Dy_i = DM1v3[1,i]\n",
    "        Dz_i = DM1v3[2,i]\n",
    "        \n",
    "        for j in range(depth,Nv+depth):\n",
    "            \n",
    "            f_nbrs = f[i,j-3:j+4]\n",
    "            \n",
    "            df_dx[i,j-3] += np.vdot(f_nbrs,Dx_i)*c_v\n",
    "            df_dy[i,j-3] += np.vdot(f_nbrs,Dy_i)*c_v\n",
    "            df_dz[i,j-3] += np.vdot(f_nbrs,Dz_i)*c_v\n",
    "    \n",
    "    return df_dx,df_dy,df_dz\n",
    "\n",
    "def eval_RHS(q,U,DM1h3,DM1v3,Lh,idx):\n",
    "\n",
    "    q = set_ghosts(q,1)\n",
    "    \n",
    "    dq_dx,dq_dy,dq_dz = eval_gradient(q,DM1h3,DM1v3,idx)\n",
    "    \n",
    "    Lq = eval_hyperviscosity(q,Lh,idx)\n",
    "    \n",
    "    gamma = -(1.5e4/a)*Nh**-4\n",
    "    \n",
    "    RHS = - ((U[0]*dq_dx) + (U[1]*dq_dy) + (U[2]*dq_dz)) + gamma*Lq\n",
    "    \n",
    "    return RHS\n"
   ]
  },
  {
   "cell_type": "code",
   "execution_count": null,
   "metadata": {
    "collapsed": false
   },
   "outputs": [],
   "source": [
    "##### 1st order DM tests\n",
    "\n",
    "# ### Test 1\n",
    "# z = (r-a)\n",
    "# ff = (z/htop)**2\n",
    "# ff_x1 = ((2*X[0]*z)/(r*(htop**2)))[:,depth:Nv+depth]\n",
    "# ff_y1 = ((2*X[1]*z)/(r*(htop**2)))[:,depth:Nv+depth]\n",
    "# ff_z1 = ((2*X[2]*z)/(r*(htop**2)))[:,depth:Nv+depth]\n",
    "\n",
    "# ### Test 2\n",
    "# ff = np.sin(X[0]/a + pi/4) * np.sin(X[1]/a + pi/4) * np.sin(X[2]/a + pi/4) * a\n",
    "# ff_x1 = ((np.cos(X[0]/a + pi/4) * np.sin(X[1]/a + pi/4) * np.sin(X[2]/a + pi/4)))[:,depth:Nv+depth]\n",
    "# ff_y1 = ((np.sin(X[0]/a + pi/4) * np.cos(X[1]/a + pi/4) * np.sin(X[2]/a + pi/4)))[:,depth:Nv+depth]\n",
    "# ff_z1 = ((np.sin(X[0]/a + pi/4) * np.sin(X[1]/a + pi/4) * np.cos(X[2]/a + pi/4)))[:,depth:Nv+depth]\n",
    "\n",
    "\n",
    "# ### Evaluate Diffs\n",
    "# print(\"Testing DMs:\")\n",
    "# ff_x2 = rbffd_diff_h(ff,DM1h3[0],idx,1) + rbffd_diff_v(ff,DM1v3[0],1)\n",
    "# ff_y2 = rbffd_diff_h(ff,DM1h3[1],idx,1) + rbffd_diff_v(ff,DM1v3[1],1)\n",
    "# ff_z2 = rbffd_diff_h(ff,DM1h3[2],idx,1) + rbffd_diff_v(ff,DM1v3[2],1)\n",
    "# print(\"\\tf:\",\"\\n\\t\\tmin = {0:e}\".format(np.min(ff)),\"\\n\\t\\tmax = {0:e}\".format(np.max(ff)))\n",
    "# print(\"\\tf_x:\",\"\\n\\t\\tmax(f_x) = {0:e}\".format(np.max(np.abs(ff_x1))),\"\\n\\t\\tmax_err(f_x) = {0:e}\".format(np.max(np.abs(ff_x1-ff_x2))),\"\\n\\t\\tmedian_err(f_x) = {0:e}\".format(np.median(np.abs(ff_x1-ff_x2))),\"\\n\\t\\tave_err(f_x) = {0:e}\".format(np.mean(np.abs(ff_x1-ff_x2))))\n",
    "# print(\"\\tf_y:\",\"\\n\\t\\tmax(f_y) = {0:e}\".format(np.max(np.abs(ff_y1))),\"\\n\\t\\tmax_err(f_y) = {0:e}\".format(np.max(np.abs(ff_y1-ff_y2))),\"\\n\\t\\tmedian_err(f_y) = {0:e}\".format(np.median(np.abs(ff_y1-ff_y2))),\"\\n\\t\\tave_err(f_y) = {0:e}\".format(np.mean(np.abs(ff_y1-ff_y2))))\n",
    "# print(\"\\tf_z:\",\"\\n\\t\\tmax(f_z) = {0:e}\".format(np.max(np.abs(ff_z1))),\"\\n\\t\\tmax_err(f_z) = {0:e}\".format(np.max(np.abs(ff_z1-ff_z2))),\"\\n\\t\\tmedian_err(f_z) = {0:e}\".format(np.median(np.abs(ff_z1-ff_z2))),\"\\n\\t\\tave_err(f_z) = {0:e}\".format(np.mean(np.abs(ff_z1-ff_z2))))\n"
   ]
  },
  {
   "cell_type": "code",
   "execution_count": null,
   "metadata": {
    "collapsed": true
   },
   "outputs": [],
   "source": [
    "def plot_var(var):\n",
    "    \n",
    "    plt.ion()\n",
    "    \n",
    "    if plttype == 0:\n",
    "        fig = plt.figure(figsize=(10,6))\n",
    "        ax = fig.add_subplot(1,1,1)\n",
    "        pltlvl = int(np.floor(5000/(2*h))+3)\n",
    "        cax = ax.scatter(lmbda[:,0],phi[:,0],c = var[:,pltlvl])\n",
    "        cbar = fig.colorbar(cax)\n",
    "        \n",
    "    if plttype == 1:\n",
    "        fig = plt.figure(figsize=(16,6))\n",
    "        ax = fig.add_subplot(1,1,1)\n",
    "        cond = np.abs(lmbda-pi) < .1\n",
    "        cax = ax.scatter(np.extract(cond,phi),np.extract(cond,r)-a,c = np.extract(cond,var),s=1.5e3/Nv)\n",
    "        cbar = fig.colorbar(cax)\n",
    "        \n",
    "    plt.show()"
   ]
  },
  {
   "cell_type": "code",
   "execution_count": null,
   "metadata": {
    "collapsed": false,
    "scrolled": true
   },
   "outputs": [],
   "source": [
    "nsteps = int(tau/dt)\n",
    "plot_int = 24\n",
    "\n",
    "q_init = set_ghosts(get_q_init(r,lmbda,phi),0)\n",
    "q = np.copy(q_init)\n",
    "q_temp = np.copy(q_init)\n",
    "\n",
    "hist_int = 1\n",
    "q_hist = q_init[:,3:Nv+3].reshape((1,Nh,Nv))\n",
    "hist_step = 0\n",
    "\n",
    "for tstep in range(nsteps):\n",
    "    \n",
    "    start = time.time()\n",
    "        \n",
    "    # RK4 step 1\n",
    "    t = tstep*dt\n",
    "    U = u_t(r,lmbda,phi,t)[:,:,depth:Nv+depth]\n",
    "    RHS = eval_RHS(q,U,DM1h3,DM1v3,Lh,idx)\n",
    "    d = RHS\n",
    "    \n",
    "    # RK4 step 2\n",
    "    t += dt/2\n",
    "    U = u_t(r,lmbda,phi,t)[:,:,depth:Nv+depth]\n",
    "    q_temp[:,depth:Nv+depth] = q[:,depth:Nv+depth] + (dt/2)*RHS\n",
    "    RHS = eval_RHS(q_temp,U,DM1h3,DM1v3,Lh,idx)\n",
    "    d += 2*RHS\n",
    "    \n",
    "    # RK4 step 3\n",
    "    q_temp[:,depth:Nv+depth] = q[:,depth:Nv+depth] + (dt/2)*RHS\n",
    "    RHS = eval_RHS(q_temp,U,DM1h3,DM1v3,Lh,idx)\n",
    "    d += 2*RHS\n",
    "    \n",
    "    # RK4 step 4\n",
    "    t += dt/2\n",
    "    U = u_t(r,lmbda,phi,t)[:,:,depth:Nv+depth]\n",
    "    q_temp[:,depth:Nv+depth] = q[:,depth:Nv+depth] + dt*RHS\n",
    "    RHS = eval_RHS(q_temp,U,DM1h3,DM1v3,Lh,idx)\n",
    "    d += RHS\n",
    "    \n",
    "    # Update tracers\n",
    "    q[:,depth:Nv+depth] += (dt/6)*d\n",
    "    \n",
    "    t_total = time.time() - start\n",
    "    \n",
    "    \n",
    "    print(\"Finished time step\",tstep+1,\"of\",nsteps,\"total -> {0:.1f} seconds/timestep\".format(t_total))\n",
    "    \n",
    "    if (tstep+1)%plot_int == 0:\n",
    "        plot_var(q)\n",
    "    \n",
    "    if (tstep+1)%hist_int == 0:\n",
    "        hist_step += 1\n",
    "        q_hist = np.append(q_hist,q[:,3:Nv+3].reshape((1,Nh,Nv)),axis=0)\n",
    "        "
   ]
  },
  {
   "cell_type": "code",
   "execution_count": null,
   "metadata": {
    "collapsed": false
   },
   "outputs": [],
   "source": [
    "# outputFile = \"results/TC\"+str(TC)+\"_\"+str(Nh)+\"h_\"+str(Nv)+\"v.nc\"\n",
    "# os.remove(outputFile)\n",
    "# ncf_root = nc4.Dataset(outputFile,\"w\",\"NETCDF4\")\n",
    "# ncg_sol = ncf_root.createGroup(\"solution\")\n",
    "# ncd_time = ncf_root.createDimension(\"time\", hist_step+1)\n",
    "# ncd_hid = ncf_root.createDimension(\"hid\", Nh)\n",
    "# ncd_vid = ncf_root.createDimension(\"vid\", Nv)\n",
    "# ncv_q = ncg_sol.createVariable(\"q\",\"f8\",(\"time\",\"hid\",\"vid\"))\n",
    "# ncv_q = q_hist\n",
    "# ncf_root.close()"
   ]
  },
  {
   "cell_type": "code",
   "execution_count": null,
   "metadata": {
    "collapsed": false
   },
   "outputs": [],
   "source": [
    "### Extrema\n",
    "q_min = np.min(q)\n",
    "q_max = np.max(q)\n",
    "\n",
    "### Solution Error Norms\n",
    "l1 = np.sum(np.abs(q_init - q)) / np.sum(np.abs(q_init))\n",
    "l2 = np.sqrt(np.sum((q_init - q)**2) / np.sum(q_init**2))\n",
    "linf = np.max(np.abs(q_init - q)) / np.max(np.abs(q_init))\n",
    "\n",
    "### Mass Conservation\n",
    "rho_0 = rho(r)\n",
    "V = (4*pi*r**2)*h/Nh\n",
    "Mt_tot = np.sum(rho_0*V*q)\n",
    "M0_tot = np.sum(rho_0*V*q_init)\n",
    "\n",
    "### Print Error Results\n",
    "print(\"Solution Extrema:\\n\\tMin:  \\t{0:.2e}\".format(q_min),\"\\n\\tMax:  \\t{0:.2e}\".format(q_max))\n",
    "print(\"Error Results:\\n\\tL_1:  \\t{0:.2e}\".format(l1),\"\\n\\tL_2:  \\t{0:.2e}\".format(l2),\"\\n\\tL_inf:\\t{0:.2e}\".format(linf))\n",
    "print(\"\\nTracer Mass Difference:\\t%{0:.3f}\".format(np.abs(100*(Mt_tot-M0_tot)/M0_tot)))\n",
    "\n",
    "# ## Plot Final Solution\n",
    "# pltlvl = int(np.floor((z_1+z_2)/(2*h))+depth)\n",
    "# fig = plt.figure(figsize=(16,8))\n",
    "# ax = fig.add_subplot(1,1,1)\n",
    "# cax = ax.scatter(lmbda[:,0],phi[:,0],c = q[:,pltlvl])\n",
    "# cbar = fig.colorbar(cax)\n"
   ]
  },
  {
   "cell_type": "code",
   "execution_count": null,
   "metadata": {
    "collapsed": true
   },
   "outputs": [],
   "source": [
    "# Config: Nh = 4096, Nv = 30, n = 55, dt = 1800, \n",
    "# Extrema: Min = -.21, Max = 1.08 --- at tau/2: q_min = -0.72, q_max = 1.88\n",
    "# Error: L_1 = .083, L_2 = .077, L_inf = .26\n",
    "# Tracer Mass Difference: %.87\n",
    "# Timing: 10.5 seconds/timestep\n",
    "\n",
    "# Config: Nh = 12100, Nv = 30, n = 55, dt = 1800, \n",
    "# Extrema: Min = -.056, Max = .96 \n",
    "# Error: L_1 = .037, L_2 = .033, L_inf = .093\n",
    "# Tracer Mass Difference: %0.005\n",
    "# Timing: 27 seconds/timestep\n"
   ]
  },
  {
   "cell_type": "code",
   "execution_count": null,
   "metadata": {
    "collapsed": false
   },
   "outputs": [],
   "source": [
    "# for i in range(Nv+6):\n",
    "#     print(\"h_lvl = {0:2d}\".format(i),\", {0:6d}m\".format(int(h*(i-3))),\"\\tq_min = {0:4.2f}\".format(np.min(q_init[:,i])),\",{0:4.2f}\".format(np.min(q[:,i])),\"\\tq_max = {0:4.2f}\".format(np.max(q_init[:,i])),\",{0:4.2f}\".format(np.max(q[:,i])))"
   ]
  },
  {
   "cell_type": "code",
   "execution_count": null,
   "metadata": {
    "collapsed": false
   },
   "outputs": [],
   "source": [
    "# ### Plot Final Solution\n",
    "# fig = plt.figure(figsize=(16,8))\n",
    "# ax = fig.add_subplot(1,1,1)\n",
    "# cond = np.abs(lmbda-pi) < .1\n",
    "# cax = ax.scatter(np.extract(cond,phi),np.extract(cond,r)-a,c = np.extract(cond,q),s=100)\n",
    "# cbar = fig.colorbar(cax)"
   ]
  },
  {
   "cell_type": "code",
   "execution_count": null,
   "metadata": {
    "collapsed": false
   },
   "outputs": [],
   "source": []
  },
  {
   "cell_type": "code",
   "execution_count": null,
   "metadata": {
    "collapsed": false
   },
   "outputs": [],
   "source": []
  },
  {
   "cell_type": "code",
   "execution_count": null,
   "metadata": {
    "collapsed": true
   },
   "outputs": [],
   "source": []
  }
 ],
 "metadata": {
  "anaconda-cloud": {},
  "celltoolbar": "Raw Cell Format",
  "kernelspec": {
   "display_name": "Python [conda root]",
   "language": "python",
   "name": "conda-root-py"
  },
  "language_info": {
   "codemirror_mode": {
    "name": "ipython",
    "version": 3
   },
   "file_extension": ".py",
   "mimetype": "text/x-python",
   "name": "python",
   "nbconvert_exporter": "python",
   "pygments_lexer": "ipython3",
   "version": "3.5.2"
  }
 },
 "nbformat": 4,
 "nbformat_minor": 1
}
