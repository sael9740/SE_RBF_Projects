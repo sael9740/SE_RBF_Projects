{
 "cells": [
  {
   "cell_type": "markdown",
   "metadata": {},
   "source": [
    "# 3D Scalar Advection Solver on a Sphere Using Radial Basis Functions\n",
    "\n",
    "Samm Elliott"
   ]
  },
  {
   "cell_type": "markdown",
   "metadata": {},
   "source": [
    "### The PDE\n",
    "The transport equation for a passive tracer with mixing ratio $q$, without sources or sinks, can be written in the conservative flux form given by\n",
    "\n",
    "$$\\frac{\\partial(\\rho q)}{\\partial t} + \\nabla\\cdot(\\rho q \\bar{u}) = 0.$$\n",
    "$$\\frac{\\partial{q}}{\\partial t} = - \\bar{u}\\cdot\\nabla{q} .$$\n",
    "\n",
    "where $\\rho$ is the air density, $\\bar{u}$ is the wind field and $\\nabla$ is the standard 3D gradient operator. The mass continuity equation is given by\n",
    "\n",
    "$$\\frac{\\partial\\rho}{\\partial t} + \\nabla\\cdot(\\rho \\bar{u}) = 0.$$"
   ]
  },
  {
   "cell_type": "markdown",
   "metadata": {},
   "source": [
    "### Import Libraries"
   ]
  },
  {
   "cell_type": "code",
   "execution_count": 1,
   "metadata": {
    "collapsed": true
   },
   "outputs": [],
   "source": [
    "import numpy as np\n",
    "from numpy import linalg as nla\n",
    "import matplotlib.pyplot as plt\n",
    "%matplotlib inline\n",
    "from mpl_toolkits.mplot3d.axes3d import Axes3D\n",
    "import scipy.sparse as ssparse\n",
    "from scipy.sparse import linalg as sla\n",
    "import time\n",
    "import netCDF4 as nc4\n",
    "import os"
   ]
  },
  {
   "cell_type": "markdown",
   "metadata": {},
   "source": [
    "# Physical Constants"
   ]
  },
  {
   "cell_type": "code",
   "execution_count": 2,
   "metadata": {
    "collapsed": true
   },
   "outputs": [],
   "source": [
    "a = 6.37122*(10**6)  # radius of the Earth (m)\n",
    "g = 9.80616          # gravitational constant (m s^(-2))\n",
    "p0 = 100000.0        # reference surface pressure (Pa)\n",
    "cp = 1004.5          # specific heat capacity of dry air (J kg^(-1) K^(-1))\n",
    "Rd = 287.0           # gas constant for dry air (J kg^(-1) K^(-1))\n",
    "kappa = Rd/cp        # ratio of Rd to cp\n",
    "T0 = 300.0           # isothermal atmosphere temperature (K)\n",
    "pi = np.pi           # pi"
   ]
  },
  {
   "cell_type": "markdown",
   "metadata": {},
   "source": [
    "### Simulation Parameterizations"
   ]
  },
  {
   "cell_type": "code",
   "execution_count": 27,
   "metadata": {
    "collapsed": true
   },
   "outputs": [],
   "source": [
    "htop = 12000.0       # height position of model top (m)\n",
    "Nh = 256            # number of horizontal nodes\n",
    "# Nh = 12100            # number of horizontal nodes\n",
    "# Nv = 12              # number of vertical nodes\n",
    "Nv = 30              # number of vertical nodes\n",
    "n = 55               # RBF stencil size\n",
    "dt = 1800"
   ]
  },
  {
   "cell_type": "markdown",
   "metadata": {},
   "source": [
    "### Initializing the Nodeset\n",
    "\n",
    "We first read in the specified maximal determinant (MD) nodes and add vertical levels for our nodeset. These MD nodes were aquired from http://web.maths.unsw.edu.au/~rsw/Sphere/. Check ./md directory for available nodesets."
   ]
  },
  {
   "cell_type": "code",
   "execution_count": 28,
   "metadata": {
    "collapsed": false
   },
   "outputs": [],
   "source": [
    "# read in MD nodes - note these are for a unit sphere\n",
    "X_hat = np.loadtxt(\"../../nodesets/md.\"+str(Nh).zfill(5),usecols = (0,1,2)).T"
   ]
  },
  {
   "cell_type": "markdown",
   "metadata": {},
   "source": [
    "If $\\hat{x}$ is a MD nodepoint on a unit sphere, then the corresponding point $\\bar{x}$ in our domain for vertical level $n$ is given by\n",
    "\n",
    "$$\\bar{x} = (a+n\\frac{z_{top}}{N_v})\\hat{x}$$"
   ]
  },
  {
   "cell_type": "code",
   "execution_count": 29,
   "metadata": {
    "collapsed": false
   },
   "outputs": [],
   "source": [
    "# create nodeset\n",
    "h = htop/(Nv-1)\n",
    "rlvls = a + np.linspace(-3*h, htop + 3*h, num = Nv + 6)\n",
    "X = np.tensordot(X_hat, rlvls, 0)"
   ]
  },
  {
   "cell_type": "markdown",
   "metadata": {},
   "source": [
    "The following plots the MD nodes and the nodeset for our domain."
   ]
  },
  {
   "cell_type": "code",
   "execution_count": 30,
   "metadata": {
    "collapsed": true
   },
   "outputs": [],
   "source": [
    "# fig = plt.figure(figsize=(8,8))\n",
    "# ax = fig.add_subplot(1, 1, 1, projection='3d')\n",
    "# ax.scatter(md_nodes[0],md_nodes[1],md_nodes[2])"
   ]
  },
  {
   "cell_type": "code",
   "execution_count": 31,
   "metadata": {
    "collapsed": true
   },
   "outputs": [],
   "source": [
    "# fig = plt.figure(figsize=(20,20))\n",
    "# ax = fig.add_subplot(1, 1, 1, projection='3d')\n",
    "# ax.scatter(xx[0],xx[1],xx[2])"
   ]
  },
  {
   "cell_type": "markdown",
   "metadata": {
    "collapsed": true
   },
   "source": [
    "### Creating n-point Stencils\n",
    "\n",
    "We can just use the MD nodeset since the stencils will be valid for any radially scaled version of the nodeset. "
   ]
  },
  {
   "cell_type": "code",
   "execution_count": 32,
   "metadata": {
    "collapsed": false
   },
   "outputs": [
    {
     "name": "stdout",
     "output_type": "stream",
     "text": [
      "get_RBFFD_DMs progress: %1\n",
      "get_RBFFD_DMs progress: %20\n",
      "get_RBFFD_DMs progress: %40\n",
      "get_RBFFD_DMs progress: %60\n",
      "get_RBFFD_DMs progress: %80\n",
      "get_RBFFD_DMs progress: %100\n",
      "CPU times: user 1.27 s, sys: 137 ms, total: 1.41 s\n",
      "Wall time: 356 ms\n"
     ]
    }
   ],
   "source": [
    "%run RBFFD_Generation.ipynb\n",
    "%time DM1h3,DM1v3,Lh,idx = get_RBFFD_DMs(X_hat,n)\n",
    "# gamma = 145*Nh**-4\n",
    "depth = 3"
   ]
  },
  {
   "cell_type": "code",
   "execution_count": 35,
   "metadata": {
    "collapsed": false
   },
   "outputs": [
    {
     "name": "stdout",
     "output_type": "stream",
     "text": [
      "[[  0  61  78  43  19  56 138  13 221 241  80 141  67 224 193  84 195  17\n",
      "    1  68  91  55  31  60 181 107 152 215 153 183 142  98 196 239  23  30\n",
      "   72 166 115  96 160   8  66 231  92 121  70  37 245 214  99  16  24 226\n",
      "  250]\n",
      " [  1  23 141  68 152 115 138 193  92  17  70  43  26 237 196 169 239  78\n",
      "    0 221 107  67 247 215 226 165 161 250  61 231 144 131 124 214  19 241\n",
      "   91 224  31 113 111 156  56 166 198  72 157 202 192 135  80 137 120  84\n",
      "  117]\n",
      " [  2  69 125 170   9 114 212  82 177 122 234 222 180  33 213  87 154 105\n",
      "  132  54 101  28 108 119 171 109  49  36 253 112 163 118 227 162  63  73\n",
      "   64 173 133 174  25 130 104  94 110  42  41 255 219  47  79 220 248 126\n",
      "  208]\n",
      " [  3 199 240 252  18 201 233  90  53  88 197 134 209 244  50  29  44 184\n",
      "  176  52 172  65 207 146   5 232 243 236 106  48  12  34 167  15 136  89\n",
      "  158  62  58 148  35  39 147 188 228  76  20 117 100 194 206  57 186 157\n",
      "   83]\n",
      " [  4 217 127  59 102  16  37 143   6   8 168  98 205 179 151 126  99 203\n",
      "   60  32  66  64  10 183  11 229 255 150  55 195 160  63 208  13  24 238\n",
      "   93 159  28  49 142 130  80 187 204 227  74  56 223 181  84 121  79 132\n",
      "  246]\n",
      " [  5  53  52 158 176  76  62 155 167  81 233  34 252 244 186  44 103 235\n",
      "  149 228  90 106  40 137  18 117   3  15 184 225 113 172 116 254 199 200\n",
      "  202  57 210 201 209 157 189 197 124  89  58 240 144  65  42 247 211 236\n",
      "   25]\n",
      " [  6 151 203 102  10  59 229   4 159 168 205 208 150 127 217 255 204 223\n",
      "  179 246  64 164 126  74  11  16  79 238 227  37 143   8  49 129 123 139\n",
      "   66  45 187  28 253  98  38  99  32 174  63  24 175 105  60  55 177 249\n",
      "  242]\n",
      " [  7 220 200 128 110 211 189 216  40 219  25 254 163 109  95 116 192 235\n",
      "  111  75  87  81 149  42 202 173  54  36 103 225 135 180 131 161  82  76\n",
      "  155 250 248  62 114 137 118 162 218 210 154 144  33 228 169 214   9 167\n",
      "  158]\n",
      " [  8  66  37 179 217  60  55  98 142   4  13 205  11  24  16  59 195  84\n",
      "  151 187 183  56 127 153 245  19  99 102 143 238 150   6  80 178 241 160\n",
      "  229   0 249  96 168 126  61  31  74 181 203  32 191  78  38 224  67  10\n",
      "  230]\n",
      " [  9 114 122  69   2 180 154 213  87 125  36 112 212  82 101 109 222 170\n",
      "  162  33 108  42  25 163 177 133 234  47 105  54  73 110 253 210 132 104\n",
      "  220 119  21 118 225 116  49 174  28 140 171 219 173 189  57 227  97   7\n",
      "  228]]\n"
     ]
    }
   ],
   "source": [
    "# fig = plt.figure(figsize=(12,12))\n",
    "# ax = fig.add_subplot(1, 1, 1, projection='3d')\n",
    "# ax.scatter(X_hat[0],X_hat[1],X_hat[2],marker='o',c='blue',s=10)\n",
    "# ax.scatter(X_hat[0,idx[0]],X_hat[1,idx[0]],X_hat[2,idx[0]],marker='o',c='green',s=50)\n",
    "# ax.view_init(60,30)\n",
    "print(idx[0:10])"
   ]
  },
  {
   "cell_type": "code",
   "execution_count": 43,
   "metadata": {
    "collapsed": false
   },
   "outputs": [
    {
     "name": "stdout",
     "output_type": "stream",
     "text": [
      "[ 1.          0.83108862 -0.44683909 -0.60347735  0.43087357 -0.49836962\n",
      "  0.07453776 -0.21214761  0.68199281 -0.61230879 -0.15564701  0.41152862\n",
      " -0.81149373  0.92035224  0.32475254 -0.00307748  0.57643643  0.88086922\n",
      " -0.77850819  0.97365906 -0.85988069 -0.99490422  0.32061364  0.71012422\n",
      "  0.57498711 -0.56940204  0.52483322  0.10770832 -0.0353995  -0.79314778\n",
      "  0.70230263  0.81845825  0.41076227 -0.05561205 -0.15359755 -0.98621221\n",
      " -0.68757541  0.65215082  0.05502254  0.14810678 -0.45717055  0.35594933\n",
      " -0.74519692  0.97369287 -0.26144259 -0.56415916 -0.72960943 -0.94383104\n",
      " -0.91529409 -0.19091592 -0.43067484 -0.1520326  -0.68069889 -0.56283491\n",
      " -0.06480253  0.82378993  0.96871831 -0.95681311  0.13296667  0.30257088\n",
      "  0.81734705  0.97754352 -0.61541081  0.17520687  0.03066516 -0.95080796\n",
      "  0.67665526  0.90733312  0.83060722 -0.60973337  0.65733717  0.08069509\n",
      "  0.69688487 -0.90207983 -0.01132352  0.25565628 -0.40092285  0.53350864\n",
      "  0.97746175 -0.48984534  0.91072416 -0.49913054 -0.23500873 -0.12121923\n",
      "  0.89054791 -0.94450293  0.3466783  -0.36912205 -0.62154594 -0.97931532\n",
      " -0.34455827  0.82405349  0.65811856  0.5220638   0.37478617  0.22895006\n",
      "  0.68513535 -0.90478925  0.75144017  0.62366149 -0.34015697 -0.87459996\n",
      "  0.20005381 -0.66973346 -0.81529529 -0.41640871 -0.90214657  0.80739684\n",
      " -0.74122646 -0.46773513 -0.37438     0.35418115 -0.88244453  0.17084053\n",
      " -0.43232067  0.68569425 -0.61947498  0.0694007   0.15483611  0.15484873\n",
      "  0.53765874  0.65786273 -0.76559542 -0.38861322  0.31339447 -0.2539003\n",
      "  0.2533158   0.33814859  0.00752487 -0.61062722  0.3242794   0.32787937\n",
      " -0.01683974 -0.9582261  -0.28734137  0.43301765 -0.29242745  0.05211197\n",
      "  0.94436495 -0.18748527 -0.98016429  0.91026726  0.75386033  0.45458824\n",
      "  0.29543284 -0.37733361 -0.6681291  -0.53687113 -0.08014558 -0.09602989\n",
      "  0.08919278  0.15037455  0.80291166  0.79713226 -0.74878263 -0.18291974\n",
      "  0.35652881  0.23255323 -0.2863154  -0.27214469  0.68392918  0.45650414\n",
      " -0.84337624 -0.21753059 -0.48537457  0.45268939  0.69549726 -0.77943215\n",
      "  0.10150733  0.52339926 -0.25064388  0.16355013 -0.0964166   0.13044942\n",
      " -0.67034909 -0.69081985 -0.36444176 -0.2466173   0.46032689  0.52896793\n",
      " -0.58091675  0.81202262 -0.84974533  0.78834448 -0.90477322  0.5342304\n",
      " -0.05568532  0.37433812 -0.71429974 -0.43313869 -0.57744666  0.50805691\n",
      "  0.17443909  0.90100251  0.09494369  0.88325754  0.75110908 -0.86378665\n",
      "  0.47279342 -0.41682349 -0.25425163 -0.7324941   0.12455691 -0.04508234\n",
      " -0.39888647  0.3347987   0.24562791 -0.20157636 -0.27878148 -0.20519863\n",
      " -0.87932827 -0.04584997 -0.44379624 -0.75864271  0.63017364  0.80039127\n",
      "  0.14694929  0.50357708  0.51133344  0.01352639 -0.16508153  0.92023144\n",
      " -0.61315853 -0.17738139  0.90349084 -0.76749461  0.56441077 -0.3490334\n",
      " -0.84933744 -0.06270727  0.29759456  0.66270901 -0.06048782 -0.48729709\n",
      " -0.04253478 -0.29597687  0.01997112  0.54434779  0.2004695   0.73409685\n",
      " -0.5478585   0.91859716 -0.77620989 -0.49074534 -0.80552157  0.64221906\n",
      " -0.36563543  0.3751146   0.3465885   0.25501425  0.54925634  0.53187277\n",
      " -0.66936325 -0.54975498 -0.08212955 -0.13841771]\n"
     ]
    }
   ],
   "source": [
    "print(X_hat[2])"
   ]
  },
  {
   "cell_type": "code",
   "execution_count": 38,
   "metadata": {
    "collapsed": false
   },
   "outputs": [
    {
     "name": "stdout",
     "output_type": "stream",
     "text": [
      "[ 0.          0.04243415  0.03536544  0.01933596  0.03042349  0.00487733\n",
      "  0.00866395  0.01867694  0.14682314  0.15628555  0.0977756   0.02392908\n",
      "  0.16922279  0.18227657  0.09962043  0.13379011  0.03547829  0.12637138\n",
      "  0.02853105  0.07814197  0.35125362  0.1001723   0.36287332  0.03503146\n",
      "  0.30023031  0.30692226  0.10028541  0.32697218  0.353788    0.17665878\n",
      "  0.29998555  0.09560309  0.25513055  0.30270731  0.0968748   0.58616218\n",
      "  0.58606112  0.58546048  0.11459182  0.62032612  0.40658419  0.13811311\n",
      "  0.26393528  0.51208498  0.23271959  0.58787467  0.25308727  0.12159852\n",
      "  0.60109076  0.59171788  0.32828351  0.23390582  0.53574611  0.4990731\n",
      "  0.5461506 ]\n"
     ]
    }
   ],
   "source": [
    "print((X_hat[0,0]-X_hat[0,idx[0,0]])**2 + (X_hat[1,0]-X_hat[1,idx[0]])**2 + (X_hat[2,0]-X_hat[2,idx[0]])**2)"
   ]
  },
  {
   "cell_type": "markdown",
   "metadata": {
    "collapsed": true
   },
   "source": [
    "## Test Case 2: Hadley-like Circulation"
   ]
  },
  {
   "cell_type": "code",
   "execution_count": 10,
   "metadata": {
    "collapsed": true
   },
   "outputs": [],
   "source": [
    "# %run TC1_3D_deformational_flow.ipynb\n",
    "# TC = 1\n",
    "# plttype = 0"
   ]
  },
  {
   "cell_type": "code",
   "execution_count": 11,
   "metadata": {
    "collapsed": true
   },
   "outputs": [],
   "source": [
    "%run TC2_Hadley_circulation.ipynb\n",
    "TC = 2\n",
    "plttype = 1"
   ]
  },
  {
   "cell_type": "code",
   "execution_count": 12,
   "metadata": {
    "collapsed": true
   },
   "outputs": [],
   "source": [
    "r,lmbda,phi = c2s(X[0],X[1],X[2])"
   ]
  },
  {
   "cell_type": "markdown",
   "metadata": {
    "collapsed": true
   },
   "source": [
    "## Timestepping"
   ]
  },
  {
   "cell_type": "code",
   "execution_count": 13,
   "metadata": {
    "collapsed": true
   },
   "outputs": [],
   "source": [
    "def set_ghosts(var,method):\n",
    "    \n",
    "    for i in range(1,depth+1):\n",
    "        \n",
    "        if method == 0:\n",
    "            var[:,depth - i] = 0.0\n",
    "            var[:,(Nv + depth - 1) + i] = 0.0\n",
    "            \n",
    "        if method == 1:\n",
    "            var[:,depth - i] = var[:,depth + i]\n",
    "            var[:,(Nv + depth - 1) + i] = var[:,(Nv + depth - 1) - i]\n",
    "        \n",
    "        if method == 2:\n",
    "            var[:,depth - i] = 2*var[:,depth] - var[:,depth + i]\n",
    "            var[:,(Nv + depth - 1) + i] = 2*var[:,Nv + depth - 1] - var[:,(Nv + depth - 1) - i]\n",
    "            \n",
    "    return var"
   ]
  },
  {
   "cell_type": "code",
   "execution_count": 14,
   "metadata": {
    "collapsed": false
   },
   "outputs": [],
   "source": [
    "def eval_hyperviscosity(f,L,idx):\n",
    "    \n",
    "    # initialize gradient component arrays\n",
    "    Lf = np.empty((Nh,Nv))\n",
    "    \n",
    "    ### evaluate horizontal components\n",
    "    for i in range(Nh):\n",
    "        \n",
    "        L_i = L[i]\n",
    "        \n",
    "        for j in range(depth,Nv+depth):\n",
    "            \n",
    "            f_nbrs = f[idx[i],j]\n",
    "\n",
    "            Lf[i,j-3] = np.vdot(f_nbrs,L_i)\n",
    "\n",
    "    return Lf\n",
    "\n",
    "def eval_gradient(f,DM1h3,DM1v3,idx):\n",
    "    \n",
    "    # horizontal/vertical differentiation scaling factors\n",
    "    c_h = 1/rlvls\n",
    "    c_v = 1/h\n",
    "    \n",
    "    # initialize gradient component arrays\n",
    "    df_dx = np.empty((Nh,Nv))\n",
    "    df_dy = np.empty((Nh,Nv))\n",
    "    df_dz = np.empty((Nh,Nv))\n",
    "    \n",
    "    ### evaluate horizontal components\n",
    "    for i in range(Nh):\n",
    "        \n",
    "        Dx_i = DM1h3[0,i]\n",
    "        Dy_i = DM1h3[1,i]\n",
    "        Dz_i = DM1h3[2,i]\n",
    "        \n",
    "        for j in range(depth,Nv+depth):\n",
    "            \n",
    "            f_nbrs = f[idx[i],j]\n",
    "            \n",
    "            df_dx[i,j-3] = np.vdot(f_nbrs,Dx_i)*c_h[j]\n",
    "            df_dy[i,j-3] = np.vdot(f_nbrs,Dy_i)*c_h[j]\n",
    "            df_dz[i,j-3] = np.vdot(f_nbrs,Dz_i)*c_h[j]\n",
    "    \n",
    "    ### evaluate vertical components\n",
    "    for i in range(Nh):\n",
    "        \n",
    "        Dx_i = DM1v3[0,i]\n",
    "        Dy_i = DM1v3[1,i]\n",
    "        Dz_i = DM1v3[2,i]\n",
    "        \n",
    "        for j in range(depth,Nv+depth):\n",
    "            \n",
    "            f_nbrs = f[i,j-3:j+4]\n",
    "            \n",
    "            df_dx[i,j-3] += np.vdot(f_nbrs,Dx_i)*c_v\n",
    "            df_dy[i,j-3] += np.vdot(f_nbrs,Dy_i)*c_v\n",
    "            df_dz[i,j-3] += np.vdot(f_nbrs,Dz_i)*c_v\n",
    "    \n",
    "    return df_dx,df_dy,df_dz\n",
    "\n",
    "def eval_RHS(q,U,DM1h3,DM1v3,Lh,idx):\n",
    "\n",
    "    q = set_ghosts(q,1)\n",
    "    \n",
    "    dq_dx,dq_dy,dq_dz = eval_gradient(q,DM1h3,DM1v3,idx)\n",
    "    \n",
    "    Lq = eval_hyperviscosity(q,Lh,idx)\n",
    "    \n",
    "    gamma = -(1.5e4/a)*Nh**-4\n",
    "    \n",
    "    RHS = - ((U[0]*dq_dx) + (U[1]*dq_dy) + (U[2]*dq_dz)) + gamma*Lq\n",
    "    \n",
    "    return RHS\n"
   ]
  },
  {
   "cell_type": "code",
   "execution_count": 15,
   "metadata": {
    "collapsed": false
   },
   "outputs": [],
   "source": [
    "##### 1st order DM tests\n",
    "\n",
    "# ### Test 1\n",
    "# z = (r-a)\n",
    "# ff = (z/htop)**2\n",
    "# ff_x1 = ((2*X[0]*z)/(r*(htop**2)))[:,depth:Nv+depth]\n",
    "# ff_y1 = ((2*X[1]*z)/(r*(htop**2)))[:,depth:Nv+depth]\n",
    "# ff_z1 = ((2*X[2]*z)/(r*(htop**2)))[:,depth:Nv+depth]\n",
    "\n",
    "# ### Test 2\n",
    "# ff = np.sin(X[0]/a + pi/4) * np.sin(X[1]/a + pi/4) * np.sin(X[2]/a + pi/4) * a\n",
    "# ff_x1 = ((np.cos(X[0]/a + pi/4) * np.sin(X[1]/a + pi/4) * np.sin(X[2]/a + pi/4)))[:,depth:Nv+depth]\n",
    "# ff_y1 = ((np.sin(X[0]/a + pi/4) * np.cos(X[1]/a + pi/4) * np.sin(X[2]/a + pi/4)))[:,depth:Nv+depth]\n",
    "# ff_z1 = ((np.sin(X[0]/a + pi/4) * np.sin(X[1]/a + pi/4) * np.cos(X[2]/a + pi/4)))[:,depth:Nv+depth]\n",
    "\n",
    "\n",
    "# ### Evaluate Diffs\n",
    "# print(\"Testing DMs:\")\n",
    "# ff_x2 = rbffd_diff_h(ff,DM1h3[0],idx,1) + rbffd_diff_v(ff,DM1v3[0],1)\n",
    "# ff_y2 = rbffd_diff_h(ff,DM1h3[1],idx,1) + rbffd_diff_v(ff,DM1v3[1],1)\n",
    "# ff_z2 = rbffd_diff_h(ff,DM1h3[2],idx,1) + rbffd_diff_v(ff,DM1v3[2],1)\n",
    "# print(\"\\tf:\",\"\\n\\t\\tmin = {0:e}\".format(np.min(ff)),\"\\n\\t\\tmax = {0:e}\".format(np.max(ff)))\n",
    "# print(\"\\tf_x:\",\"\\n\\t\\tmax(f_x) = {0:e}\".format(np.max(np.abs(ff_x1))),\"\\n\\t\\tmax_err(f_x) = {0:e}\".format(np.max(np.abs(ff_x1-ff_x2))),\"\\n\\t\\tmedian_err(f_x) = {0:e}\".format(np.median(np.abs(ff_x1-ff_x2))),\"\\n\\t\\tave_err(f_x) = {0:e}\".format(np.mean(np.abs(ff_x1-ff_x2))))\n",
    "# print(\"\\tf_y:\",\"\\n\\t\\tmax(f_y) = {0:e}\".format(np.max(np.abs(ff_y1))),\"\\n\\t\\tmax_err(f_y) = {0:e}\".format(np.max(np.abs(ff_y1-ff_y2))),\"\\n\\t\\tmedian_err(f_y) = {0:e}\".format(np.median(np.abs(ff_y1-ff_y2))),\"\\n\\t\\tave_err(f_y) = {0:e}\".format(np.mean(np.abs(ff_y1-ff_y2))))\n",
    "# print(\"\\tf_z:\",\"\\n\\t\\tmax(f_z) = {0:e}\".format(np.max(np.abs(ff_z1))),\"\\n\\t\\tmax_err(f_z) = {0:e}\".format(np.max(np.abs(ff_z1-ff_z2))),\"\\n\\t\\tmedian_err(f_z) = {0:e}\".format(np.median(np.abs(ff_z1-ff_z2))),\"\\n\\t\\tave_err(f_z) = {0:e}\".format(np.mean(np.abs(ff_z1-ff_z2))))\n"
   ]
  },
  {
   "cell_type": "code",
   "execution_count": 16,
   "metadata": {
    "collapsed": true
   },
   "outputs": [],
   "source": [
    "def plot_var(var):\n",
    "    \n",
    "    plt.ion()\n",
    "    \n",
    "    if plttype == 0:\n",
    "        fig = plt.figure(figsize=(10,6))\n",
    "        ax = fig.add_subplot(1,1,1)\n",
    "        pltlvl = int(np.floor(5000/(2*h))+3)\n",
    "        cax = ax.scatter(lmbda[:,0],phi[:,0],c = var[:,pltlvl])\n",
    "        cbar = fig.colorbar(cax)\n",
    "        \n",
    "    if plttype == 1:\n",
    "        fig = plt.figure(figsize=(16,6))\n",
    "        ax = fig.add_subplot(1,1,1)\n",
    "        cond = np.abs(lmbda-pi) < .1\n",
    "        cax = ax.scatter(np.extract(cond,phi),np.extract(cond,r)-a,c = np.extract(cond,var),s=1.5e3/Nv)\n",
    "        cbar = fig.colorbar(cax)\n",
    "        \n",
    "    plt.show()"
   ]
  },
  {
   "cell_type": "code",
   "execution_count": 17,
   "metadata": {
    "collapsed": false,
    "scrolled": true
   },
   "outputs": [
    {
     "name": "stdout",
     "output_type": "stream",
     "text": [
      "Finished time step 1 of 48 total -> 30.6 seconds/timestep\n",
      "Finished time step 2 of 48 total -> 30.2 seconds/timestep\n",
      "Finished time step 3 of 48 total -> 30.7 seconds/timestep\n",
      "Finished time step 4 of 48 total -> 31.1 seconds/timestep\n",
      "Finished time step 5 of 48 total -> 30.1 seconds/timestep\n",
      "Finished time step 6 of 48 total -> 31.2 seconds/timestep\n",
      "Finished time step 7 of 48 total -> 30.2 seconds/timestep\n",
      "Finished time step 8 of 48 total -> 33.3 seconds/timestep\n",
      "Finished time step 9 of 48 total -> 33.5 seconds/timestep\n",
      "Finished time step 10 of 48 total -> 32.5 seconds/timestep\n",
      "Finished time step 11 of 48 total -> 33.4 seconds/timestep\n",
      "Finished time step 12 of 48 total -> 31.9 seconds/timestep\n",
      "Finished time step 13 of 48 total -> 29.6 seconds/timestep\n",
      "Finished time step 14 of 48 total -> 29.1 seconds/timestep\n",
      "Finished time step 15 of 48 total -> 30.2 seconds/timestep\n",
      "Finished time step 16 of 48 total -> 30.0 seconds/timestep\n",
      "Finished time step 17 of 48 total -> 31.2 seconds/timestep\n",
      "Finished time step 18 of 48 total -> 31.3 seconds/timestep\n",
      "Finished time step 19 of 48 total -> 32.2 seconds/timestep\n",
      "Finished time step 20 of 48 total -> 32.2 seconds/timestep\n",
      "Finished time step 21 of 48 total -> 31.8 seconds/timestep\n",
      "Finished time step 22 of 48 total -> 28.6 seconds/timestep\n",
      "Finished time step 23 of 48 total -> 30.2 seconds/timestep\n",
      "Finished time step 24 of 48 total -> 29.1 seconds/timestep\n",
      "Finished time step 25 of 48 total -> 33.1 seconds/timestep\n",
      "Finished time step 26 of 48 total -> 29.2 seconds/timestep\n",
      "Finished time step 27 of 48 total -> 31.9 seconds/timestep\n",
      "Finished time step 28 of 48 total -> 30.2 seconds/timestep\n",
      "Finished time step 29 of 48 total -> 31.6 seconds/timestep\n",
      "Finished time step 30 of 48 total -> 31.2 seconds/timestep\n",
      "Finished time step 31 of 48 total -> 32.0 seconds/timestep\n",
      "Finished time step 32 of 48 total -> 31.2 seconds/timestep\n",
      "Finished time step 33 of 48 total -> 30.0 seconds/timestep\n",
      "Finished time step 34 of 48 total -> 28.6 seconds/timestep\n",
      "Finished time step 35 of 48 total -> 32.1 seconds/timestep\n",
      "Finished time step 36 of 48 total -> 31.0 seconds/timestep\n",
      "Finished time step 37 of 48 total -> 30.7 seconds/timestep\n",
      "Finished time step 38 of 48 total -> 30.7 seconds/timestep\n",
      "Finished time step 39 of 48 total -> 30.9 seconds/timestep\n",
      "Finished time step 40 of 48 total -> 33.5 seconds/timestep\n",
      "Finished time step 41 of 48 total -> 32.6 seconds/timestep\n",
      "Finished time step 42 of 48 total -> 32.3 seconds/timestep\n",
      "Finished time step 43 of 48 total -> 29.5 seconds/timestep\n",
      "Finished time step 44 of 48 total -> 30.3 seconds/timestep\n",
      "Finished time step 45 of 48 total -> 29.2 seconds/timestep\n",
      "Finished time step 46 of 48 total -> 28.9 seconds/timestep\n",
      "Finished time step 47 of 48 total -> 29.0 seconds/timestep\n",
      "Finished time step 48 of 48 total -> 28.7 seconds/timestep\n"
     ]
    }
   ],
   "source": [
    "nsteps = int(tau/dt)\n",
    "plot_int = 1000\n",
    "\n",
    "q_init = set_ghosts(get_q_init(r,lmbda,phi),0)\n",
    "q = np.copy(q_init)\n",
    "q_temp = np.copy(q_init)\n",
    "\n",
    "hist_int = 1\n",
    "q_hist = q_init.reshape((1,Nh,Nv+6))\n",
    "hist_step = 0\n",
    "\n",
    "for tstep in range(nsteps):\n",
    "    \n",
    "    start = time.time()\n",
    "        \n",
    "    # RK4 step 1\n",
    "    t = tstep*dt\n",
    "    U = u_t(r,lmbda,phi,t)[:,:,depth:Nv+depth]\n",
    "    RHS = eval_RHS(q,U,DM1h3,DM1v3,Lh,idx)\n",
    "    d = RHS\n",
    "    \n",
    "    # RK4 step 2\n",
    "    t += dt/2\n",
    "    U = u_t(r,lmbda,phi,t)[:,:,depth:Nv+depth]\n",
    "    q_temp[:,depth:Nv+depth] = q[:,depth:Nv+depth] + (dt/2)*RHS\n",
    "    RHS = eval_RHS(q_temp,U,DM1h3,DM1v3,Lh,idx)\n",
    "    d += 2*RHS\n",
    "    \n",
    "    # RK4 step 3\n",
    "    q_temp[:,depth:Nv+depth] = q[:,depth:Nv+depth] + (dt/2)*RHS\n",
    "    RHS = eval_RHS(q_temp,U,DM1h3,DM1v3,Lh,idx)\n",
    "    d += 2*RHS\n",
    "    \n",
    "    # RK4 step 4\n",
    "    t += dt/2\n",
    "    U = u_t(r,lmbda,phi,t)[:,:,depth:Nv+depth]\n",
    "    q_temp[:,depth:Nv+depth] = q[:,depth:Nv+depth] + dt*RHS\n",
    "    RHS = eval_RHS(q_temp,U,DM1h3,DM1v3,Lh,idx)\n",
    "    d += RHS\n",
    "    \n",
    "    # Update tracers\n",
    "    q[:,depth:Nv+depth] += (dt/6)*d\n",
    "    \n",
    "    t_total = time.time() - start\n",
    "    \n",
    "    \n",
    "    print(\"Finished time step\",tstep+1,\"of\",nsteps,\"total -> {0:.1f} seconds/timestep\".format(t_total))\n",
    "    \n",
    "    if (tstep+1)%plot_int == 0:\n",
    "        plot_var(q)\n",
    "    \n",
    "    if (tstep+1)%hist_int == 0:\n",
    "        hist_step += 1\n",
    "        q_hist = np.append(q_hist,q.reshape((1,Nh,Nv+6)),axis=0)\n",
    "        "
   ]
  },
  {
   "cell_type": "code",
   "execution_count": 23,
   "metadata": {
    "collapsed": true
   },
   "outputs": [],
   "source": [
    "times = np.linspace(0,tau,num = hist_step+1)"
   ]
  },
  {
   "cell_type": "code",
   "execution_count": 24,
   "metadata": {
    "collapsed": false
   },
   "outputs": [],
   "source": [
    "outputFile = \"results/TC\"+str(TC)+\"_\"+str(Nh)+\"h_\"+str(Nv)+\"v.nc\"\n",
    "os.remove(outputFile)\n",
    "ncf_root = nc4.Dataset(outputFile,\"w\",\"NETCDF4\")\n",
    "ncd_time = ncf_root.createDimension(\"tstep\", hist_step+1)\n",
    "ncd_hid = ncf_root.createDimension(\"hid\", Nh)\n",
    "ncd_vid = ncf_root.createDimension(\"vid\", Nv+6)\n",
    "ncv_r = ncf_root.createVariable(\"r\",\"f8\",(\"hid\",\"vid\"))\n",
    "ncv_lmbda = ncf_root.createVariable(\"lmbda\",\"f8\",(\"hid\",\"vid\"))\n",
    "ncv_phi = ncf_root.createVariable(\"phi\",\"f8\",(\"hid\",\"vid\"))\n",
    "ncv_time = ncf_root.createVariable(\"times\",\"f8\",(\"tstep\"))\n",
    "ncv_q_hist = ncf_root.createVariable(\"q_hist\",\"f8\",(\"tstep\",\"hid\",\"vid\"))\n",
    "ncf_root.variables[\"r\"][:] = r[:]\n",
    "ncf_root.variables[\"lmbda\"][:] = lmbda\n",
    "ncf_root.variables[\"phi\"][:] = phi\n",
    "ncf_root.variables[\"times\"][:] = times\n",
    "ncf_root.variables[\"q_hist\"][:] = q_hist\n",
    "ncf_root.close()"
   ]
  },
  {
   "cell_type": "code",
   "execution_count": 25,
   "metadata": {
    "collapsed": false
   },
   "outputs": [
    {
     "name": "stdout",
     "output_type": "stream",
     "text": [
      "Solution Extrema:\n",
      "\tMin:  \t-5.64e-02 \n",
      "\tMax:  \t9.75e-01\n",
      "Error Results:\n",
      "\tL_1:  \t3.69e-02 \n",
      "\tL_2:  \t3.30e-02 \n",
      "\tL_inf:\t9.27e-02\n",
      "\n",
      "Tracer Mass Difference:\t%0.005\n"
     ]
    }
   ],
   "source": [
    "### Extrema\n",
    "q_min = np.min(q)\n",
    "q_max = np.max(q)\n",
    "\n",
    "### Solution Error Norms\n",
    "l1 = np.sum(np.abs(q_init - q)) / np.sum(np.abs(q_init))\n",
    "l2 = np.sqrt(np.sum((q_init - q)**2) / np.sum(q_init**2))\n",
    "linf = np.max(np.abs(q_init - q)) / np.max(np.abs(q_init))\n",
    "\n",
    "### Mass Conservation\n",
    "rho_0 = rho(r)\n",
    "V = (4*pi*r**2)*h/Nh\n",
    "Mt_tot = np.sum(rho_0*V*q)\n",
    "M0_tot = np.sum(rho_0*V*q_init)\n",
    "\n",
    "### Print Error Results\n",
    "print(\"Solution Extrema:\\n\\tMin:  \\t{0:.2e}\".format(q_min),\"\\n\\tMax:  \\t{0:.2e}\".format(q_max))\n",
    "print(\"Error Results:\\n\\tL_1:  \\t{0:.2e}\".format(l1),\"\\n\\tL_2:  \\t{0:.2e}\".format(l2),\"\\n\\tL_inf:\\t{0:.2e}\".format(linf))\n",
    "print(\"\\nTracer Mass Difference:\\t%{0:.3f}\".format(np.abs(100*(Mt_tot-M0_tot)/M0_tot)))\n"
   ]
  },
  {
   "cell_type": "code",
   "execution_count": 26,
   "metadata": {
    "collapsed": true
   },
   "outputs": [],
   "source": [
    "# Config: Nh = 4096, Nv = 30, n = 55, dt = 1800, \n",
    "# Extrema: Min = -.21, Max = 1.08 --- at tau/2: q_min = -0.72, q_max = 1.88\n",
    "# Error: L_1 = .083, L_2 = .077, L_inf = .26\n",
    "# Tracer Mass Difference: %.87\n",
    "# Timing: 10.5 seconds/timestep\n",
    "\n",
    "# Config: Nh = 12100, Nv = 30, n = 55, dt = 1800, \n",
    "# Extrema: Min = -.056, Max = .96 \n",
    "# Error: L_1 = .037, L_2 = .033, L_inf = .093\n",
    "# Tracer Mass Difference: %0.005\n",
    "# Timing: 27 seconds/timestep\n"
   ]
  },
  {
   "cell_type": "code",
   "execution_count": null,
   "metadata": {
    "collapsed": false
   },
   "outputs": [],
   "source": []
  }
 ],
 "metadata": {
  "anaconda-cloud": {},
  "celltoolbar": "Raw Cell Format",
  "kernelspec": {
   "display_name": "Python [conda root]",
   "language": "python",
   "name": "conda-root-py"
  },
  "language_info": {
   "codemirror_mode": {
    "name": "ipython",
    "version": 3
   },
   "file_extension": ".py",
   "mimetype": "text/x-python",
   "name": "python",
   "nbconvert_exporter": "python",
   "pygments_lexer": "ipython3",
   "version": "3.5.2"
  }
 },
 "nbformat": 4,
 "nbformat_minor": 1
}
