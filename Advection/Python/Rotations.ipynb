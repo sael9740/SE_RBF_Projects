{
 "cells": [
  {
   "cell_type": "code",
   "execution_count": 1,
   "metadata": {
    "collapsed": true
   },
   "outputs": [],
   "source": [
    "import numpy as np\n",
    "from math import sqrt\n",
    "from pprint import pprint"
   ]
  },
  {
   "cell_type": "code",
   "execution_count": 68,
   "metadata": {
    "collapsed": false
   },
   "outputs": [],
   "source": [
    "def rotate_node(Q,x):\n",
    "    \n",
    "    x_prime = np.zeros(3)\n",
    "    \n",
    "    for i in range(3):\n",
    "        for j in range(3):\n",
    "            x_prime[i] += Q[i][j] * x[j]\n",
    "    \n",
    "    return x_prime\n",
    "\n",
    "def rotate_nodes(Q,xx):\n",
    "    \n",
    "    N = xx.shape[1]\n",
    "    \n",
    "    xx_prime = np.zeros(xx.shape)\n",
    "    \n",
    "    pprint(x_prime)\n",
    "    \n",
    "    for n in \n",
    "        for i in range(3):\n",
    "            for j in range(3):\n",
    "                x_prime[i] += Q[i][j] * x[j]\n",
    "    \n",
    "    return x_prime\n",
    "\n",
    "def trans_matrix(M):\n",
    "    \"\"\"Take the transpose of a matrix.\"\"\"\n",
    "    n = len(M)\n",
    "    return [[ M[i][j] for i in range(n)] for j in range(n)]\n",
    "\n",
    "def norm(x):\n",
    "    \"\"\"Return the Euclidean norm of the vector x.\"\"\"\n",
    "    return sqrt(sum([x_i**2 for x_i in x]))\n",
    "\n",
    "def sign(x):\n",
    "    if x < 0:\n",
    "        return -1\n",
    "    else:\n",
    "        return 1\n",
    "\n",
    "def householder(x):\n",
    "    e0 =[1.0,0.0,0.0]\n",
    "    alpha = -sign(x[0]) * norm(x)\n",
    "    u = list(map(lambda p,q: p + alpha * q, x, e0))\n",
    "    norm_u = norm(u)\n",
    "    v = list(map(lambda p: p / norm_u, u))\n",
    "    \n",
    "    Q = [ [float(i==j) - 2.0 * v[i] * v[j] for i in range(3)] for j in range(3) ]\n",
    "\n",
    "    return Q"
   ]
  },
  {
   "cell_type": "code",
   "execution_count": 69,
   "metadata": {
    "collapsed": false
   },
   "outputs": [
    {
     "name": "stdout",
     "output_type": "stream",
     "text": [
      "array([[ 0.        ,  0.94280904, -0.47140452, -0.47140452],\n",
      "       [ 0.        ,  0.        ,  0.81649658, -0.81649658],\n",
      "       [ 1.        , -0.33333333, -0.33333333, -0.33333333]])\n",
      "[[2.2204460492503131e-16, 0.0, 0.99999999999999978],\n",
      " [0.0, 1.0, 0.0],\n",
      " [0.99999999999999978, 0.0, 2.2204460492503131e-16]]\n",
      "array([ 0.,  0.,  0.])\n",
      "array([  1.00000000e+00,   0.00000000e+00,   2.22044605e-16])\n"
     ]
    }
   ],
   "source": [
    "Nh = 4\n",
    "xx = np.loadtxt(\"md/md.\"+str(Nh).zfill(5),usecols = (0,1,2)).T\n",
    "pprint(xx)\n",
    "pprint(householder(xx[:,0]))\n",
    "pprint(rotate_node(householder(xx[:,0]),xx[:,0]))"
   ]
  },
  {
   "cell_type": "code",
   "execution_count": null,
   "metadata": {
    "collapsed": true
   },
   "outputs": [],
   "source": [
    "from numpy.polynomial.laguerre import lagval\n",
    "print(lagval(0,[1,0,0,0]))"
   ]
  },
  {
   "cell_type": "code",
   "execution_count": null,
   "metadata": {
    "collapsed": true
   },
   "outputs": [],
   "source": []
  }
 ],
 "metadata": {
  "anaconda-cloud": {},
  "kernelspec": {
   "display_name": "Python [Root]",
   "language": "python",
   "name": "Python [Root]"
  },
  "language_info": {
   "codemirror_mode": {
    "name": "ipython",
    "version": 3
   },
   "file_extension": ".py",
   "mimetype": "text/x-python",
   "name": "python",
   "nbconvert_exporter": "python",
   "pygments_lexer": "ipython3",
   "version": "3.5.2"
  }
 },
 "nbformat": 4,
 "nbformat_minor": 0
}
