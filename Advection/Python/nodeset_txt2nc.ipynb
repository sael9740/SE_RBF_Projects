{
 "cells": [
  {
   "cell_type": "code",
   "execution_count": 56,
   "metadata": {
    "collapsed": true
   },
   "outputs": [],
   "source": [
    "import numpy as np\n",
    "import netCDF4 as nc4\n",
    "import os"
   ]
  },
  {
   "cell_type": "code",
   "execution_count": 57,
   "metadata": {
    "collapsed": true
   },
   "outputs": [],
   "source": [
    "Nh = 1024"
   ]
  },
  {
   "cell_type": "code",
   "execution_count": 58,
   "metadata": {
    "collapsed": false
   },
   "outputs": [],
   "source": [
    "X = np.loadtxt(\"../../nodesets/md.\"+str(Nh).zfill(5),usecols = (0,1,2)).T"
   ]
  },
  {
   "cell_type": "code",
   "execution_count": 78,
   "metadata": {
    "collapsed": false
   },
   "outputs": [],
   "source": [
    "outputFile = \"../../nodesets/MD_\"+str(Nh)+\".nc\"\n",
    "os.remove(outputFile)"
   ]
  },
  {
   "cell_type": "code",
   "execution_count": 79,
   "metadata": {
    "collapsed": false
   },
   "outputs": [
    {
     "name": "stdout",
     "output_type": "stream",
     "text": [
      "<class 'netCDF4._netCDF4.Variable'>\n",
      "float64 x(hid)\n",
      "path = /nodeset\n",
      "unlimited dimensions: \n",
      "current shape = (1024,)\n",
      "filling on, default _FillValue of 9.969209968386869e+36 used\n",
      "\n"
     ]
    }
   ],
   "source": [
    "ncf_root = nc4.Dataset(outputFile,\"w\",\"NETCDF4\")\n",
    "ncg_nodes = ncf_root.createGroup(\"nodeset\")\n",
    "ncd_hid = ncf_root.createDimension(\"hid\", Nh)\n",
    "ncv_x = ncg_nodes.createVariable(\"x\",np.float64,(\"hid\"))\n",
    "ncv_y = ncg_nodes.createVariable(\"y\",\"f8\",(\"hid\"))\n",
    "ncv_z = ncg_nodes.createVariable(\"z\",\"f8\",(\"hid\"))\n",
    "# ncv_x = X[0]\n",
    "ncg_nodes.variables[\"x\"][:] = X[0]\n",
    "ncv_y[:] = X[1:2]\n",
    "ncv_z[:] = X[2:3]\n",
    "print(ncv_x)\n",
    "ncf_root.close()"
   ]
  },
  {
   "cell_type": "code",
   "execution_count": 76,
   "metadata": {
    "collapsed": false
   },
   "outputs": [
    {
     "name": "stdout",
     "output_type": "stream",
     "text": [
      "[-- -- -- ..., -- -- --]\n"
     ]
    }
   ],
   "source": [
    "ncf_root = nc4.Dataset(outputFile,\"r\",\"NETCDF4\")\n",
    "ncg_nodes = ncf_root.groups[\"nodeset\"]\n",
    "ncv_x = ncg_nodes.variables[\"x\"]\n",
    "print(ncv_x[:])\n",
    "ncf_root.close()"
   ]
  },
  {
   "cell_type": "code",
   "execution_count": null,
   "metadata": {
    "collapsed": true
   },
   "outputs": [],
   "source": []
  }
 ],
 "metadata": {
  "anaconda-cloud": {},
  "kernelspec": {
   "display_name": "Python [conda root]",
   "language": "python",
   "name": "conda-root-py"
  },
  "language_info": {
   "codemirror_mode": {
    "name": "ipython",
    "version": 3
   },
   "file_extension": ".py",
   "mimetype": "text/x-python",
   "name": "python",
   "nbconvert_exporter": "python",
   "pygments_lexer": "ipython3",
   "version": "3.5.2"
  }
 },
 "nbformat": 4,
 "nbformat_minor": 0
}
