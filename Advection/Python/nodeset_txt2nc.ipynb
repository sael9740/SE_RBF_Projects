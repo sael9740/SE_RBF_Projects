{
 "cells": [
  {
   "cell_type": "code",
   "execution_count": 3,
   "metadata": {
    "collapsed": true
   },
   "outputs": [],
   "source": [
    "import numpy as np\n",
    "import netCDF4 as nc4\n",
    "import os"
   ]
  },
  {
   "cell_type": "code",
   "execution_count": 25,
   "metadata": {
    "collapsed": true
   },
   "outputs": [],
   "source": [
    "Nh = 1210"
   ]
  },
  {
   "cell_type": "code",
   "execution_count": 26,
   "metadata": {
    "collapsed": false
   },
   "outputs": [],
   "source": [
    "X = np.loadtxt(\"../../nodesets/md.\"+str(Nh).zfill(5),usecols = (0,1,2)).T"
   ]
  },
  {
   "cell_type": "code",
   "execution_count": 27,
   "metadata": {
    "collapsed": false
   },
   "outputs": [],
   "source": [
    "outputFile = \"../../nodesets/MD_\"+str(Nh)+\".nc\"\n",
    "# os.remove(outputFile)"
   ]
  },
  {
   "cell_type": "code",
   "execution_count": 28,
   "metadata": {
    "collapsed": false
   },
   "outputs": [],
   "source": [
    "ncf_root = nc4.Dataset(outputFile,\"w\",\"NETCDF4\")\n",
    "ncg_nodes = ncf_root.createGroup(\"nodeset\")\n",
    "ncd_hid = ncf_root.createDimension(\"hid\", Nh)\n",
    "ncv_x = ncg_nodes.createVariable(\"x\",np.float64,(\"hid\"))\n",
    "ncv_y = ncg_nodes.createVariable(\"y\",\"f8\",(\"hid\"))\n",
    "ncv_z = ncg_nodes.createVariable(\"z\",\"f8\",(\"hid\"))\n",
    "ncg_nodes.variables[\"x\"][:] = X[0]\n",
    "ncg_nodes.variables[\"y\"][:] = X[1]\n",
    "ncg_nodes.variables[\"z\"][:] = X[2]\n",
    "ncf_root.close()"
   ]
  },
  {
   "cell_type": "code",
   "execution_count": 12,
   "metadata": {
    "collapsed": false
   },
   "outputs": [],
   "source": [
    "ncf_root = nc4.Dataset(outputFile,\"r\",\"NETCDF4\")\n",
    "ncg_nodes = ncf_root.groups[\"nodeset\"]\n",
    "ncv_x = ncg_nodes.variables[\"x\"]\n",
    "ncf_root.close()"
   ]
  },
  {
   "cell_type": "code",
   "execution_count": null,
   "metadata": {
    "collapsed": true
   },
   "outputs": [],
   "source": []
  }
 ],
 "metadata": {
  "anaconda-cloud": {},
  "kernelspec": {
   "display_name": "Python [conda root]",
   "language": "python",
   "name": "conda-root-py"
  },
  "language_info": {
   "codemirror_mode": {
    "name": "ipython",
    "version": 3
   },
   "file_extension": ".py",
   "mimetype": "text/x-python",
   "name": "python",
   "nbconvert_exporter": "python",
   "pygments_lexer": "ipython3",
   "version": "3.5.2"
  }
 },
 "nbformat": 4,
 "nbformat_minor": 0
}
