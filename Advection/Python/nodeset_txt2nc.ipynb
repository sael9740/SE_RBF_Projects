{
 "cells": [
  {
   "cell_type": "code",
   "execution_count": 56,
   "metadata": {
    "collapsed": true
   },
   "outputs": [],
   "source": [
    "import numpy as np\n",
    "import netCDF4 as nc4\n",
    "import os"
   ]
  },
  {
   "cell_type": "code",
   "execution_count": 97,
   "metadata": {
    "collapsed": true
   },
   "outputs": [],
   "source": [
    "Nh = 4096"
   ]
  },
  {
   "cell_type": "code",
   "execution_count": 98,
   "metadata": {
    "collapsed": false
   },
   "outputs": [],
   "source": [
    "X = np.loadtxt(\"../../nodesets/md.\"+str(Nh).zfill(5),usecols = (0,1,2)).T"
   ]
  },
  {
   "cell_type": "code",
   "execution_count": 99,
   "metadata": {
    "collapsed": false
   },
   "outputs": [
    {
     "ename": "FileNotFoundError",
     "evalue": "[Errno 2] No such file or directory: '../../nodesets/MD_4096.nc'",
     "output_type": "error",
     "traceback": [
      "\u001b[0;31m---------------------------------------------------------------------------\u001b[0m",
      "\u001b[0;31mFileNotFoundError\u001b[0m                         Traceback (most recent call last)",
      "\u001b[0;32m<ipython-input-99-9c4a78bda77a>\u001b[0m in \u001b[0;36m<module>\u001b[0;34m()\u001b[0m\n\u001b[1;32m      1\u001b[0m \u001b[0moutputFile\u001b[0m \u001b[0;34m=\u001b[0m \u001b[0;34m\"../../nodesets/MD_\"\u001b[0m\u001b[0;34m+\u001b[0m\u001b[0mstr\u001b[0m\u001b[0;34m(\u001b[0m\u001b[0mNh\u001b[0m\u001b[0;34m)\u001b[0m\u001b[0;34m+\u001b[0m\u001b[0;34m\".nc\"\u001b[0m\u001b[0;34m\u001b[0m\u001b[0m\n\u001b[0;32m----> 2\u001b[0;31m \u001b[0mos\u001b[0m\u001b[0;34m.\u001b[0m\u001b[0mremove\u001b[0m\u001b[0;34m(\u001b[0m\u001b[0moutputFile\u001b[0m\u001b[0;34m)\u001b[0m\u001b[0;34m\u001b[0m\u001b[0m\n\u001b[0m",
      "\u001b[0;31mFileNotFoundError\u001b[0m: [Errno 2] No such file or directory: '../../nodesets/MD_4096.nc'"
     ]
    }
   ],
   "source": [
    "outputFile = \"../../nodesets/MD_\"+str(Nh)+\".nc\"\n",
    "os.remove(outputFile)"
   ]
  },
  {
   "cell_type": "code",
   "execution_count": 100,
   "metadata": {
    "collapsed": false
   },
   "outputs": [],
   "source": [
    "ncf_root = nc4.Dataset(outputFile,\"w\",\"NETCDF4\")\n",
    "ncg_nodes = ncf_root.createGroup(\"nodeset\")\n",
    "ncd_hid = ncf_root.createDimension(\"hid\", Nh)\n",
    "ncv_x = ncg_nodes.createVariable(\"x\",np.float64,(\"hid\"))\n",
    "ncv_y = ncg_nodes.createVariable(\"y\",\"f8\",(\"hid\"))\n",
    "ncv_z = ncg_nodes.createVariable(\"z\",\"f8\",(\"hid\"))\n",
    "ncg_nodes.variables[\"x\"][:] = X[0]\n",
    "ncg_nodes.variables[\"y\"][:] = X[0]\n",
    "ncg_nodes.variables[\"z\"][:] = X[0]\n",
    "ncf_root.close()"
   ]
  },
  {
   "cell_type": "code",
   "execution_count": 92,
   "metadata": {
    "collapsed": false
   },
   "outputs": [],
   "source": [
    "ncf_root = nc4.Dataset(outputFile,\"r\",\"NETCDF4\")\n",
    "ncg_nodes = ncf_root.groups[\"nodeset\"]\n",
    "ncv_x = ncg_nodes.variables[\"x\"]\n",
    "ncf_root.close()"
   ]
  },
  {
   "cell_type": "code",
   "execution_count": null,
   "metadata": {
    "collapsed": true
   },
   "outputs": [],
   "source": []
  }
 ],
 "metadata": {
  "anaconda-cloud": {},
  "kernelspec": {
   "display_name": "Python [conda root]",
   "language": "python",
   "name": "conda-root-py"
  },
  "language_info": {
   "codemirror_mode": {
    "name": "ipython",
    "version": 3
   },
   "file_extension": ".py",
   "mimetype": "text/x-python",
   "name": "python",
   "nbconvert_exporter": "python",
   "pygments_lexer": "ipython3",
   "version": "3.5.2"
  }
 },
 "nbformat": 4,
 "nbformat_minor": 0
}
