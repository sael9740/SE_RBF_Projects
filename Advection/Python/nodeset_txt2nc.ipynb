{
 "cells": [
  {
   "cell_type": "code",
   "execution_count": 1,
   "metadata": {
    "collapsed": true
   },
   "outputs": [],
   "source": [
    "import numpy as np\n",
    "import netCDF4 as nc4\n",
    "import os"
   ]
  },
  {
   "cell_type": "code",
   "execution_count": 2,
   "metadata": {
    "collapsed": false
   },
   "outputs": [],
   "source": [
    "Nh_list = list((25,256,1024,4096,12100,27556))\n",
    "%run TC2_Hadley_circulation.ipynb\n",
    "for Nh in Nh_list:\n",
    "    outputFile = \"../../nodesets/MD_\"+str(Nh)+\".nc\"\n",
    "    X = np.loadtxt(\"../../nodesets/md.\"+str(Nh).zfill(5),usecols = (0,1,2)).T\n",
    "    r,lmbda,phi = c2s(X[0],X[1],X[2])\n",
    "    \n",
    "    ncf_root = nc4.Dataset(outputFile,\"w\",\"NETCDF4\")\n",
    "    ncg_nodes = ncf_root.createGroup(\"nodeset\")\n",
    "    ncd_hid = ncf_root.createDimension(\"hid\", Nh)\n",
    "    ncv_x = ncg_nodes.createVariable(\"x\",\"f8\",(\"hid\"))\n",
    "    ncv_y = ncg_nodes.createVariable(\"y\",\"f8\",(\"hid\"))\n",
    "    ncv_z = ncg_nodes.createVariable(\"z\",\"f8\",(\"hid\"))\n",
    "    ncv_lmbda = ncg_nodes.createVariable(\"lambda\",\"f8\",(\"hid\"))\n",
    "    ncv_phi = ncg_nodes.createVariable(\"phi\",\"f8\",(\"hid\"))\n",
    "    ncg_nodes.variables[\"x\"][:] = X[0]\n",
    "    ncg_nodes.variables[\"y\"][:] = X[1]\n",
    "    ncg_nodes.variables[\"z\"][:] = X[2]\n",
    "    ncg_nodes.variables[\"lambda\"][:] = lmbda\n",
    "    ncg_nodes.variables[\"phi\"][:] = phi\n",
    "    ncf_root.close()"
   ]
  },
  {
   "cell_type": "code",
   "execution_count": 3,
   "metadata": {
    "collapsed": false
   },
   "outputs": [
    {
     "name": "stdout",
     "output_type": "stream",
     "text": [
      "[ 1.57079633  1.53913648  1.54732381  1.54862607  1.53622344  1.54766672\n",
      "  1.550238    1.55009588  1.51759368  1.53019195]\n",
      "[ 1.57079633  1.53913648  1.54732381  1.54862607  1.53622344  1.54766672\n",
      "  1.550238    1.55009588  1.51759368  1.53019195]\n"
     ]
    }
   ],
   "source": [
    "# ncf_root = nc4.Dataset(outputFile,\"r\",\"NETCDF4\")\n",
    "# ncg_nodes = ncf_root.groups[\"nodeset\"]\n",
    "# ncv_phi = ncg_nodes.variables[\"phi\"]\n",
    "# print(ncv_phi[0:10])\n",
    "# print(phi[0:10])\n",
    "# ncf_root.close()"
   ]
  },
  {
   "cell_type": "code",
   "execution_count": null,
   "metadata": {
    "collapsed": true
   },
   "outputs": [],
   "source": []
  }
 ],
 "metadata": {
  "anaconda-cloud": {},
  "kernelspec": {
   "display_name": "Python [conda root]",
   "language": "python",
   "name": "conda-root-py"
  },
  "language_info": {
   "codemirror_mode": {
    "name": "ipython",
    "version": 3
   },
   "file_extension": ".py",
   "mimetype": "text/x-python",
   "name": "python",
   "nbconvert_exporter": "python",
   "pygments_lexer": "ipython3",
   "version": "3.5.2"
  }
 },
 "nbformat": 4,
 "nbformat_minor": 0
}
